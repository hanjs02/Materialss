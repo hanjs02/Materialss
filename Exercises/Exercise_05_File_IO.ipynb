{
 "cells": [
  {
   "attachments": {},
   "cell_type": "markdown",
   "metadata": {},
   "source": [
    "# Exercise 5\n",
    "\n",
    "Related Notes:\n",
    "- Chapter_05_File_IO\n",
    "\n",
    "[![Open In Colab](https://colab.research.google.com/assets/colab-badge.svg)](https://colab.research.google.com/github/njc-cz2-2021/Materials/blob/main/Exercises/Exercise-05-File_IO.ipynb) "
   ]
  },
  {
   "cell_type": "markdown",
   "metadata": {},
   "source": [
    "## Exercise 5.1\n",
    "\n",
    "Write following list `s` into a text file `q1.txt` with each item occupying 1 line.\n",
    "\n",
    ">``` python\n",
    ">s = [chr(i) + '.txt' for i in range(ord('A'), ord('F'))]\n",
    ">```\n",
    "\n",
    "Use following command in Jupyter Notebook to open `q1.txt` to verify the content in the file.\n",
    "\n",
    ">`!notepad q1.txt`"
   ]
  },
  {
   "cell_type": "markdown",
   "metadata": {},
   "source": [
    "ord(alphabet) -> number \n",
    "chr(number) -> alphabet\n"
   ]
  },
  {
   "cell_type": "code",
   "execution_count": null,
   "metadata": {},
   "outputs": [
    {
     "name": "stdout",
     "output_type": "stream",
     "text": [
      "A.txt\n",
      "B.txt\n",
      "C.txt\n",
      "D.txt\n",
      "E.txt"
     ]
    }
   ],
   "source": [
    "cat ./resources/q1.txt "
   ]
  },
  {
   "cell_type": "markdown",
   "metadata": {},
   "source": [
    "## Exercise 5.2\n",
    "\n",
    "For each line of text in `q1.txt`, generate an empty text file and name the file using that line of text. If file already exists, remove it before generating a new file. \n",
    "\n",
    "Use the following code to check if a file exists.\n",
    "\n",
    ">``` python\n",
    ">import os\n",
    ">if os.path.exists(file_path): pass\n",
    ">```\n",
    "\n",
    "Use following command in Jupyter Notebook to confirm that you have generated all files.\n",
    "\n",
    ">``` bash\n",
    ">!ls *.txt\n",
    ">```"
   ]
  },
  {
   "cell_type": "code",
   "execution_count": null,
   "metadata": {},
   "outputs": [
    {
     "ename": "FileNotFoundError",
     "evalue": "[Errno 2] No such file or directory: 'q1.txt'",
     "output_type": "error",
     "traceback": [
      "\u001b[0;31m---------------------------------------------------------------------------\u001b[0m",
      "\u001b[0;31mFileNotFoundError\u001b[0m                         Traceback (most recent call last)",
      "Cell \u001b[0;32mIn[22], line 1\u001b[0m\n\u001b[0;32m----> 1\u001b[0m \u001b[38;5;28;01mwith\u001b[39;00m \u001b[38;5;28;43mopen\u001b[39;49m\u001b[43m(\u001b[49m\u001b[38;5;124;43m'\u001b[39;49m\u001b[38;5;124;43mq1.txt\u001b[39;49m\u001b[38;5;124;43m'\u001b[39;49m\u001b[43m)\u001b[49m \u001b[38;5;28;01mas\u001b[39;00m f:\n\u001b[1;32m      2\u001b[0m     s \u001b[38;5;241m=\u001b[39m f\u001b[38;5;241m.\u001b[39mread()\n\u001b[1;32m      3\u001b[0m     \u001b[38;5;28mprint\u001b[39m(s)\n",
      "File \u001b[0;32m~/.local/lib/python3.12/site-packages/IPython/core/interactiveshell.py:324\u001b[0m, in \u001b[0;36m_modified_open\u001b[0;34m(file, *args, **kwargs)\u001b[0m\n\u001b[1;32m    317\u001b[0m \u001b[38;5;28;01mif\u001b[39;00m file \u001b[38;5;129;01min\u001b[39;00m {\u001b[38;5;241m0\u001b[39m, \u001b[38;5;241m1\u001b[39m, \u001b[38;5;241m2\u001b[39m}:\n\u001b[1;32m    318\u001b[0m     \u001b[38;5;28;01mraise\u001b[39;00m \u001b[38;5;167;01mValueError\u001b[39;00m(\n\u001b[1;32m    319\u001b[0m         \u001b[38;5;124mf\u001b[39m\u001b[38;5;124m\"\u001b[39m\u001b[38;5;124mIPython won\u001b[39m\u001b[38;5;124m'\u001b[39m\u001b[38;5;124mt let you open fd=\u001b[39m\u001b[38;5;132;01m{\u001b[39;00mfile\u001b[38;5;132;01m}\u001b[39;00m\u001b[38;5;124m by default \u001b[39m\u001b[38;5;124m\"\u001b[39m\n\u001b[1;32m    320\u001b[0m         \u001b[38;5;124m\"\u001b[39m\u001b[38;5;124mas it is likely to crash IPython. If you know what you are doing, \u001b[39m\u001b[38;5;124m\"\u001b[39m\n\u001b[1;32m    321\u001b[0m         \u001b[38;5;124m\"\u001b[39m\u001b[38;5;124myou can use builtins\u001b[39m\u001b[38;5;124m'\u001b[39m\u001b[38;5;124m open.\u001b[39m\u001b[38;5;124m\"\u001b[39m\n\u001b[1;32m    322\u001b[0m     )\n\u001b[0;32m--> 324\u001b[0m \u001b[38;5;28;01mreturn\u001b[39;00m \u001b[43mio_open\u001b[49m\u001b[43m(\u001b[49m\u001b[43mfile\u001b[49m\u001b[43m,\u001b[49m\u001b[43m \u001b[49m\u001b[38;5;241;43m*\u001b[39;49m\u001b[43margs\u001b[49m\u001b[43m,\u001b[49m\u001b[43m \u001b[49m\u001b[38;5;241;43m*\u001b[39;49m\u001b[38;5;241;43m*\u001b[39;49m\u001b[43mkwargs\u001b[49m\u001b[43m)\u001b[49m\n",
      "\u001b[0;31mFileNotFoundError\u001b[0m: [Errno 2] No such file or directory: 'q1.txt'"
     ]
    }
   ],
   "source": [
    "with open('q1.txt') as f:\n",
    "    s = f.read()\n",
    "    print(s)\n",
    "\n",
    "import os \n",
    "if os.path.exists('q1.txt'):\n",
    "    print('q1. txt ecxists')\n",
    "\n",
    "with open('q1.txt') as f:\n",
    "    s = f.readlines()\n",
    "    for file_name in s:\n",
    "        if os.path.exists(file_name):\n",
    "            os.remove(file_name)\n",
    "        with open(file_name, 'w') as f:\n",
    "            pass\n"
   ]
  },
  {
   "cell_type": "markdown",
   "metadata": {},
   "source": [
    "## Exercise 5.3\n",
    "\n",
    "Write code to generate all the positive integers up to $n$ that are perfect squares and save them in a text file called `PERFECT_SQUARES.TXT`. Note that each line within the file should contain one integer, and the last character within the file should be an end line character."
   ]
  },
  {
   "cell_type": "code",
   "execution_count": null,
   "metadata": {},
   "outputs": [],
   "source": [
    "#YOUR_CODE_HERE"
   ]
  },
  {
   "cell_type": "markdown",
   "metadata": {},
   "source": [
    "## Exercise 5.4\n",
    "\n",
    "Write code to generate all the positive integers from $n + 1$ to $n + m$, and then append them to the file used in question 1. (Note, do not overwrite the perfect squares from Question 1.) "
   ]
  },
  {
   "cell_type": "code",
   "execution_count": null,
   "metadata": {},
   "outputs": [],
   "source": [
    "#YOUR_CODE_HERE"
   ]
  },
  {
   "cell_type": "markdown",
   "metadata": {},
   "source": [
    "## Exercise 5.5\n",
    "\n",
    "A log of a certain boss fight from a certain game is stored inside the file `log_ex8.csv` under the folder `resources`. The csv file contains the following header.\n",
    "\n",
    "- `'Parse%'`  refers to the performance of the character relative to all other players in the world,\n",
    "- `'Name'` refers to the name of the character in the game,\n",
    "- `'Amount'`  refers to the amount of damage\n",
    "- `'iLvL'`  refers to the quality of the equipment the character is using,\n",
    "- `'iLvL%'` refers to the performance of the player relative to players with similar quality of equipment,\n",
    "- `'Active Time'` refers to the percentage of time spend by the character doing damage during the fight.\n",
    "- `'DPS'` refers to the amount of damage done per second in the fight.\n",
    "\n",
    "Your task is to:\n",
    "\n",
    "- Store the contents of the csv file into a list `records` where each element in the list is itself a list where the elements correspond to the `Parse%`,`Name`,`Amount`,`iLvL`,`iLvL%`,`Active Time`,`DPS` values for each line in the csv file.\n",
    "- Create an empty list called `player_name`.\n",
    "- iterate over each element of `records` appending the player names to `player_name`.\n",
    "- Print each name in `player_name` in alphabetical order."
   ]
  },
  {
   "cell_type": "code",
   "execution_count": 18,
   "metadata": {},
   "outputs": [
    {
     "name": "stdout",
     "output_type": "stream",
     "text": [
      "['\"Angers\"', '\"Anothervc\"', '\"Avey\"', '\"Biraprie\"', '\"Chrisfumi\"', '\"Chrissinger\"', '\"Darkietank\"', '\"Dewgie\"', '\"Ericlock\"', '\"Exolaris\"', '\"Fyrebird\"', '\"Gamheals\"', '\"Gdook\"', '\"Haloxd\"', '\"Jari\"', '\"Keipra\"', '\"Kieu\"', '\"Knoxvegas\"', '\"Kolhito\"', '\"Lymos\"', '\"Makotoase\"', '\"Masachi\"', '\"Masakins\"', '\"Nómi\"', '\"Ovy\"', '\"Paeldryth\"', '\"Pappaslop\"', '\"Plastral\"', '\"Revtide\"', '\"Spooknspell\"', '\"Stormblast\"', '\"Synesthetix\"', '\"Wôes\"']\n"
     ]
    }
   ],
   "source": [
    "# Resources are stored together with Exercise 5.ipynb in the same folder in the vs code \n",
    "\n",
    "with open('resources/log_ex8.csv') as file_handler:\n",
    "    s = file_handler.read() \n",
    "    # print(s)\n",
    "    #each row wil be an item in the list \n",
    "    s = s.split('\\n')\n",
    "    # print(s)\n",
    "    records = []\n",
    "\n",
    "    \n",
    "    for item in s[1: ]:\n",
    "        #split each record by ', '\n",
    "        records.append(item.split(','))\n",
    "    # print(records)\n",
    "\n",
    "    player_name = []\n",
    "    for record in records: \n",
    "        player_name.append(record[1])\n",
    "    player_name.sort()\n",
    "    print(player_name)\n",
    "\n",
    "\n",
    "\n"
   ]
  },
  {
   "cell_type": "markdown",
   "metadata": {},
   "source": [
    "readlines => each line will be an item in a list a big string \n",
    "reader => breakes down the string and converts it into lists in a big list (=nested list)    #less no. of steps compared to readlines "
   ]
  },
  {
   "cell_type": "code",
   "execution_count": 4,
   "metadata": {},
   "outputs": [
    {
     "name": "stdout",
     "output_type": "stream",
     "text": [
      "Angers\n",
      "Anothervc\n",
      "Avey\n",
      "Biraprie\n",
      "Chrisfumi\n",
      "Chrissinger\n",
      "Darkietank\n",
      "Dewgie\n",
      "Ericlock\n",
      "Exolaris\n",
      "Fyrebird\n",
      "Gamheals\n",
      "Gdook\n",
      "Haloxd\n",
      "Jari\n",
      "Keipra\n",
      "Kieu\n",
      "Knoxvegas\n",
      "Kolhito\n",
      "Lymos\n",
      "Makotoase\n",
      "Masachi\n",
      "Masakins\n",
      "Nómi\n",
      "Ovy\n",
      "Paeldryth\n",
      "Pappaslop\n",
      "Plastral\n",
      "Revtide\n",
      "Spooknspell\n",
      "Stormblast\n",
      "Synesthetix\n",
      "Wôes\n"
     ]
    },
    {
     "ename": "ValueError",
     "evalue": "I/O operation on closed file.",
     "output_type": "error",
     "traceback": [
      "\u001b[0;31m---------------------------------------------------------------------------\u001b[0m",
      "\u001b[0;31mValueError\u001b[0m                                Traceback (most recent call last)",
      "Cell \u001b[0;32mIn[4], line 19\u001b[0m\n\u001b[1;32m     16\u001b[0m     \u001b[38;5;28;01mfor\u001b[39;00m y \u001b[38;5;129;01min\u001b[39;00m player_name:\n\u001b[1;32m     17\u001b[0m         \u001b[38;5;28mprint\u001b[39m(y)\n\u001b[0;32m---> 19\u001b[0m \u001b[38;5;28mprint\u001b[39m(\u001b[43mcsv\u001b[49m\u001b[38;5;241;43m.\u001b[39;49m\u001b[43mDictReader\u001b[49m\u001b[43m(\u001b[49m\u001b[43mf\u001b[49m\u001b[43m)\u001b[49m) \n",
      "File \u001b[0;32m~/.python/current/lib/python3.12/csv.py:91\u001b[0m, in \u001b[0;36mDictReader.__init__\u001b[0;34m(self, f, fieldnames, restkey, restval, dialect, *args, **kwds)\u001b[0m\n\u001b[1;32m     89\u001b[0m \u001b[38;5;28mself\u001b[39m\u001b[38;5;241m.\u001b[39mrestkey \u001b[38;5;241m=\u001b[39m restkey          \u001b[38;5;66;03m# key to catch long rows\u001b[39;00m\n\u001b[1;32m     90\u001b[0m \u001b[38;5;28mself\u001b[39m\u001b[38;5;241m.\u001b[39mrestval \u001b[38;5;241m=\u001b[39m restval          \u001b[38;5;66;03m# default value for short rows\u001b[39;00m\n\u001b[0;32m---> 91\u001b[0m \u001b[38;5;28mself\u001b[39m\u001b[38;5;241m.\u001b[39mreader \u001b[38;5;241m=\u001b[39m \u001b[43mreader\u001b[49m\u001b[43m(\u001b[49m\u001b[43mf\u001b[49m\u001b[43m,\u001b[49m\u001b[43m \u001b[49m\u001b[43mdialect\u001b[49m\u001b[43m,\u001b[49m\u001b[43m \u001b[49m\u001b[38;5;241;43m*\u001b[39;49m\u001b[43margs\u001b[49m\u001b[43m,\u001b[49m\u001b[43m \u001b[49m\u001b[38;5;241;43m*\u001b[39;49m\u001b[38;5;241;43m*\u001b[39;49m\u001b[43mkwds\u001b[49m\u001b[43m)\u001b[49m\n\u001b[1;32m     92\u001b[0m \u001b[38;5;28mself\u001b[39m\u001b[38;5;241m.\u001b[39mdialect \u001b[38;5;241m=\u001b[39m dialect\n\u001b[1;32m     93\u001b[0m \u001b[38;5;28mself\u001b[39m\u001b[38;5;241m.\u001b[39mline_num \u001b[38;5;241m=\u001b[39m \u001b[38;5;241m0\u001b[39m\n",
      "\u001b[0;31mValueError\u001b[0m: I/O operation on closed file."
     ]
    }
   ],
   "source": [
    "import csv\n",
    "# with open('./resources/log_ex8.csv', 'r') as f:\n",
    "#     x = list(row for row in list(csv.DictReader(f)))\n",
    "#     player_name = list(row['Name'] for row in x)\n",
    "#     player_name.sort()\n",
    "#     for y in player_name:\n",
    "#         print(y)\n",
    "\n",
    "#following instructions literally\n",
    "with open('./resources/log_ex8.csv', 'r') as f:            #'r' means read mode \n",
    "    x = list(row for row in list(csv.DictReader(f)))     #DictReader is an actual method and you need to uppercase for it to be recognised     #dictionary -> list of dictionaries       # x is a list where each rorw is a dicionary representing a row of data \n",
    "    player_name = []\n",
    "    for row in x:\n",
    "        player_name.append(row['Name'])\n",
    "    player_name.sort()\n",
    "    for y in player_name:\n",
    "        print(y)\n",
    "\n",
    "print(csv.DictReader(f)) "
   ]
  },
  {
   "cell_type": "markdown",
   "metadata": {},
   "source": [
    "## Exercise 5.6\n",
    "\n",
    "Download the file: https://archive.ics.uci.edu/ml/machine-learning-databases/iris/iris.data\n",
    "\n",
    "Write code to read and store the contents of this comma separated file within a 2D List, $L$, such that $L[i]$ corresponds to the sample entry on the $i$-th line of the file, and $L[i][j]$ corresponds to the $j$-th value of the $i$-th entry.\n",
    "Print the contents of the 2D List to verify that you have stored the contents correctly.\n"
   ]
  },
  {
   "cell_type": "code",
   "execution_count": null,
   "metadata": {},
   "outputs": [],
   "source": [
    "#YOUR_CODE_HERE"
   ]
  },
  {
   "cell_type": "markdown",
   "metadata": {},
   "source": [
    "## Exercise 5.7\n",
    "\n",
    "Each line in the file at: http://itu.dk/people/pagh/sad12/primes1000000.txt represents a prime number below 1,000,000.\n",
    " \n",
    "Write a function that uses the above file to test if a given positive integer below 1,000,000 is a prime number. If the given numbers exceeds 1,000,000, then utilise a separate function to calculate if it is a prime. "
   ]
  },
  {
   "cell_type": "code",
   "execution_count": 2,
   "metadata": {},
   "outputs": [],
   "source": [
    "import math \n",
    "n = int(input('Key in a positive integer:'))\n",
    "def check_primes(n: int)->bool:\n",
    "    for i in range(2,int(sqrt(n)+1)):\n",
    "    # if  the number is < 1 000 000\n",
    "        if n < 1000000:\n",
    "    # read from the file and check if the number is in the file \n",
    "            with open('primes1000000.txt') as f:\n",
    "                prime_numbers = f.readlines()\n",
    "                prime_numbers = [i.strip() for i in prime_numbers]\n",
    "                if n in prime_numbers:\n",
    "                    return True \n",
    "\n",
    "    # othewise you call primitive_check_primes()\n",
    "\n"
   ]
  },
  {
   "cell_type": "markdown",
   "metadata": {},
   "source": [
    "## Exercise 5.8\n",
    "\n",
    "A mathematical equation $y=f(x)$ can be visualized on a cartesian plane as the set of all the points $(x,y)$ where $y=f(x)$. Write a code that \n",
    "\n",
    "1. generates 100 points that satisfy the equation $y=x^2$ for $-10\\leq x\\leq 10$ (for simplicity, take the uniform spacing for the $x$-values of the points),and\n",
    "2. saves them into a text file named `ex8_8.txt`. Each line in the file is of the form $(x,y)$, \n",
    "3. load the points from `ex8_8.txt` and using the module `matplotlib`, show the plot.\n"
   ]
  },
  {
   "cell_type": "code",
   "execution_count": null,
   "metadata": {},
   "outputs": [],
   "source": [
    "#YOUR_CODE_HERE"
   ]
  },
  {
   "cell_type": "markdown",
   "metadata": {},
   "source": [
    "## Exercise 5.9\n",
    "\n",
    "A text file, `NOI_24_RESULT.txt` contains the results of the medallist recipients for the 24th National Olympiad in Informatics.\n",
    "\n",
    "Write a code to:\n",
    "\n",
    "- read the data from the text file,\n",
    "- store the school name and medal counts in a Python dictionary `medal_count` where the school name is the key and the associated value is a tuple of the form `(GOLD, SILVER, BRONZE)`,\n",
    "- print out the top 5 school with the highest number of medals won, regardless of the medal type. "
   ]
  },
  {
   "cell_type": "code",
   "execution_count": null,
   "metadata": {},
   "outputs": [
    {
     "name": "stdout",
     "output_type": "stream",
     "text": [
      "[['Gold'], ['1.Au Heng Hoi', ' Joel', ' NUS High School Of Mathematics And Science'], ['2.Evan Lim Hong Jun', ' Raffles Institution'], ['3.Huang Qirui', ' Hwa Chong Institution'], ['4.Jamie Lim Jia Sin (Lin Jiaxin)', ' NUS High School Of Mathematics And Science'], ['5.Kang Yiming', ' Raffles Institution'], ['6.Shen Zihan', ' National Junior College'], ['7.Sng James (Sun Jie)', ' NUS High School Of Mathematics And Science'], ['8.Song Yiyang', ' Raffles Institution'], ['9.Soumyaditya Choudhuri', ' United World College South East Asia Dover Campus'], ['10.Stuart Lim Yi Xiong', ' Hwa Chong Institution'], ['11.Tan Yi Kai', ' Hwa Chong Institution'], ['12.Wang Yunrui', ' Raffles Institution'], ['13.Yaw Chur Zhe', ' Hwa Chong Institution'], ['14.Zeng Minghao', ' Manjusri Secondary School'], ['15.Zhao Zhongqi', ' Hwa Chong Institution'], ['16.Yu Zheyuan', ' NUS High School Of Mathematics And Science'], ['Silver'], ['1.Adhitya Polavaram', ' Singapore American School'], ['2.Advay Ratan', ' Singapore American School'], ['3.Baghaskara Pandya Narayana', ' DPS International School'], ['4.Benedict Tan Deng Jin', ' NUS High School Of Mathematics And Science'], ['5.Brian Lee Jun Siang', ' Hwa Chong Institution'], ['6.Cao Jia Lin', ' Marianna', ' National Junior College'], ['7.Chang Yung Chiang', ' Anderson Serangoon Junior College'], ['8.Cheng Haoyang', ' Anglo-Chinese School Independent'], ['9.Cheung Ho Fai Brandon', ' Yishun Innova Junior College'], ['10.Cui Yihan', \" CHIJ St. Nicholas Girls' School\"], ['11.Dylan Michael Chong', ' Anglo-Chinese School Independent'], ['12.Dylan See Yuzhi', ' Dunman High School'], ['13.Feilin Liangga Putri', \" Methodist Girls' School Secondary\"], ['14.Gabriel Mario Antaputra', ' Anglo-Chinese Junior College'], ['15.Gao Yihe', ' National Junior College'], ['16.Goh Yu Shen', ' Catholic High School'], ['17.Gu Yingqi', ' River Valley High School'], ['18.Harsha Polavaram', ' Singapore American School'], ['19.Huang Keyi', ' Raffles Institution'], ['20.Huang Ziwen', ' Raffles Institution'], ['21.James Tan Dejun', ' River Valley High School'], ['22.Javier Lim', ' NUS High School Of Mathematics And Science'], ['23.Jiang Tongyu', \" Raffles Girls' School Secondary\"], ['24.Jishnu Roychoudhury', ' United World College South East Asia Dover Campus'], ['25.Jordan Low Jin Yi', ' Nanyang Junior College'], ['26.Justin Park', ' United World College South East Asia Dover Campus'], ['27.Kiew Tian Le', ' Ernest', ' Anderson Secondary School'], ['28.Koh Jia Hng', ' Raffles Institution'], ['29.Lam Yik Ting', ' Dunman High School'], ['30.Le Duc Minh', ' Bukit Panjang Govt. High School'], ['31.Le Tran Cong Hung', ' Anglo-Chinese School Independent'], ['32.Le Tu Quoc Dat', ' Tampines Meridian Junior College'], ['33.Lee Jing Peng', ' River Valley High School'], ['34.Leo Qiyi Joel', ' Dunman High School'], ['35.Low Choo Ray', ' Raffles Institution'], ['36.Luo Jiale', ' National Junior College'], ['37.Luo Qiuyi', ' Ngee Ann Secondary School'], ['38.Mohammad Suhail Memon Loya', ' Global Indian International School'], ['39.Ng Mun Hin', ' Raffles Institution'], ['40.Nguyen Cao Duy', ' Anderson Serangoon Junior College'], ['41.Nguyen Duc Minh Anh', \" St. Joseph's Institution\"], ['42.Nguyen Ngoc Quyet', ' Swiss Cottage Secondary School'], ['43.Nguyen Phuc Chuong', \" St. Joseph's Institution\"], ['44.Nguyen Thai Binh', ' Ngee Ann Secondary School'], ['45.Ong Jia Cheng', ' Anglo-Chinese Junior College'], ['46.Pran Tanprasertkul', ' Anderson Secondary School'], ['47.Ryan Goh Choon Aik', ' Raffles Institution'], ['48.Seojun Lee', ' United World College South East Asia Dover Campus'], ['49.Si Wen Xuan', ' Terry', ' Hwa Chong Institution'], ['50.Subramanian Ramasamy', ' NUS High School Of Mathematics And Science'], ['51.Taha Ebrahim', ' United World College South East Asia Dover Campus'], ['52.Tan Swee Kang', ' River Valley High School'], ['53.Tia Shi Wei', ' NUS High School Of Mathematics And Science'], ['54.Tung Ivan Kipling', ' Hwa Chong Institution'], ['55.Vayun Mathur', ' Singapore American School'], ['56.Vir Chaudhury', ' United World College South East Asia Dover Campus'], ['57.Wang Yihe', ' Hwa Chong Institution'], ['58.Yang Lihan', ' Nanyang Junior College'], ['59.Yanjia Zhang', ' United World College South East Asia Dover Campus'], ['60.Yap Yuan Xi', ' NUS High School Of Mathematics And Science'], ['61.Yeo Bing Lin', ' Hwa Chong Institution'], ['Bronze'], ['1.Aron Septianto', ' Anglo-Chinese School Independent'], ['2.Cadence Wern Sea Loh', \" Raffles Girls' School Secondary\"], ['3.David Walton', ' United World College South East Asia Dover Campus'], ['4.Devansh Shah', ' Global Indian International School'], ['5.Divyesh Balakrishnan', ' Clementi Town Secondary School'], ['6.Hein Htet Zaw', ' Commonwealth Secondary School'], ['7.Jiang Tianyuan', ' Dunman High School'], ['8.Jiao Pengtao', ' Victoria School'], ['9.Jonathan Tan Jiayi', ' School Of Science And Technology', ' Singapore'], ['10.Lim Yan Khai Bennett', ' Anglo-Chinese School Independent'], ['11.Luo Jiaqi', \" St. Joseph's Institution\"], ['12.Ma Xundong', ' Hwa Chong International School'], ['13.Ng Yu Ray', ' Commonwealth Secondary School'], ['14.Ryan Lee Yew Keene', ' Temasek Junior College'], ['15.Thai Le Minh Hoai', ' Anderson Serangoon Junior College'], ['16.Vincent Lim Jing En', ' Temasek Junior College'], ['17.Vishal Mohanty', ' NUS High School Of Mathematics And Science']]\n"
     ]
    }
   ],
   "source": [
    "import csv \n",
    "with open('./resources/NOI_24_RESULT.csv', 'r') as f: \n",
    "    data = list(csv.reader(f))\n",
    "    # clear the empty rows \n",
    "    data = [rows for rows in data if rows != []]\n",
    "    print(data)\n",
    "    # section = 0 \n",
    "    # gold, silver, bronze = [], [], []\n",
    "    \n",
    "#iterate through each row in data \n",
    "for row in data: \n",
    "    if len(row) == 1:\n",
    "        section += 1\n",
    "    else:\n",
    "        if section == 1:\n",
    "    #breaks data up into 3 sections \n",
    "\n",
    "\n",
    "    #if row is a a record (studentname, schoool name), the add them to respective medal records\n",
    "    #create a lsit of all schools, set used to remove duplicates \n",
    "    #use list.count() to count number of each type of medals won \n",
    "    # use key=lambda x: x[1] to sort lsit according to 2nd entry of each tuple element"
   ]
  },
  {
   "cell_type": "code",
   "execution_count": null,
   "metadata": {},
   "outputs": [
    {
     "name": "stdout",
     "output_type": "stream",
     "text": [
      "[['Gold'], ['1.Au Heng Hoi', ' Joel', ' NUS High School Of Mathematics And Science'], [], ['2.Evan Lim Hong Jun', ' Raffles Institution'], [], ['3.Huang Qirui', ' Hwa Chong Institution'], [], ['4.Jamie Lim Jia Sin (Lin Jiaxin)', ' NUS High School Of Mathematics And Science'], [], ['5.Kang Yiming', ' Raffles Institution'], [], ['6.Shen Zihan', ' National Junior College'], [], ['7.Sng James (Sun Jie)', ' NUS High School Of Mathematics And Science'], [], ['8.Song Yiyang', ' Raffles Institution'], [], ['9.Soumyaditya Choudhuri', ' United World College South East Asia Dover Campus'], [], ['10.Stuart Lim Yi Xiong', ' Hwa Chong Institution'], [], ['11.Tan Yi Kai', ' Hwa Chong Institution'], [], ['12.Wang Yunrui', ' Raffles Institution'], [], ['13.Yaw Chur Zhe', ' Hwa Chong Institution'], [], ['14.Zeng Minghao', ' Manjusri Secondary School'], [], ['15.Zhao Zhongqi', ' Hwa Chong Institution'], [], ['16.Yu Zheyuan', ' NUS High School Of Mathematics And Science'], [], ['Silver'], ['1.Adhitya Polavaram', ' Singapore American School'], [], ['2.Advay Ratan', ' Singapore American School'], [], ['3.Baghaskara Pandya Narayana', ' DPS International School'], [], ['4.Benedict Tan Deng Jin', ' NUS High School Of Mathematics And Science'], [], ['5.Brian Lee Jun Siang', ' Hwa Chong Institution'], [], ['6.Cao Jia Lin', ' Marianna', ' National Junior College'], [], ['7.Chang Yung Chiang', ' Anderson Serangoon Junior College'], [], ['8.Cheng Haoyang', ' Anglo-Chinese School Independent'], [], ['9.Cheung Ho Fai Brandon', ' Yishun Innova Junior College'], [], ['10.Cui Yihan', \" CHIJ St. Nicholas Girls' School\"], [], ['11.Dylan Michael Chong', ' Anglo-Chinese School Independent'], [], ['12.Dylan See Yuzhi', ' Dunman High School'], [], ['13.Feilin Liangga Putri', \" Methodist Girls' School Secondary\"], [], ['14.Gabriel Mario Antaputra', ' Anglo-Chinese Junior College'], [], ['15.Gao Yihe', ' National Junior College'], [], ['16.Goh Yu Shen', ' Catholic High School'], [], ['17.Gu Yingqi', ' River Valley High School'], [], ['18.Harsha Polavaram', ' Singapore American School'], [], ['19.Huang Keyi', ' Raffles Institution'], [], ['20.Huang Ziwen', ' Raffles Institution'], [], ['21.James Tan Dejun', ' River Valley High School'], [], ['22.Javier Lim', ' NUS High School Of Mathematics And Science'], [], ['23.Jiang Tongyu', \" Raffles Girls' School Secondary\"], [], ['24.Jishnu Roychoudhury', ' United World College South East Asia Dover Campus'], [], ['25.Jordan Low Jin Yi', ' Nanyang Junior College'], [], ['26.Justin Park', ' United World College South East Asia Dover Campus'], [], ['27.Kiew Tian Le', ' Ernest', ' Anderson Secondary School'], [], ['28.Koh Jia Hng', ' Raffles Institution'], [], ['29.Lam Yik Ting', ' Dunman High School'], [], ['30.Le Duc Minh', ' Bukit Panjang Govt. High School'], [], ['31.Le Tran Cong Hung', ' Anglo-Chinese School Independent'], [], ['32.Le Tu Quoc Dat', ' Tampines Meridian Junior College'], [], ['33.Lee Jing Peng', ' River Valley High School'], [], ['34.Leo Qiyi Joel', ' Dunman High School'], [], ['35.Low Choo Ray', ' Raffles Institution'], [], ['36.Luo Jiale', ' National Junior College'], [], ['37.Luo Qiuyi', ' Ngee Ann Secondary School'], [], ['38.Mohammad Suhail Memon Loya', ' Global Indian International School'], [], ['39.Ng Mun Hin', ' Raffles Institution'], [], ['40.Nguyen Cao Duy', ' Anderson Serangoon Junior College'], [], ['41.Nguyen Duc Minh Anh', \" St. Joseph's Institution\"], [], ['42.Nguyen Ngoc Quyet', ' Swiss Cottage Secondary School'], [], ['43.Nguyen Phuc Chuong', \" St. Joseph's Institution\"], [], ['44.Nguyen Thai Binh', ' Ngee Ann Secondary School'], [], ['45.Ong Jia Cheng', ' Anglo-Chinese Junior College'], [], ['46.Pran Tanprasertkul', ' Anderson Secondary School'], [], ['47.Ryan Goh Choon Aik', ' Raffles Institution'], [], ['48.Seojun Lee', ' United World College South East Asia Dover Campus'], [], ['49.Si Wen Xuan', ' Terry', ' Hwa Chong Institution'], [], ['50.Subramanian Ramasamy', ' NUS High School Of Mathematics And Science'], [], ['51.Taha Ebrahim', ' United World College South East Asia Dover Campus'], [], ['52.Tan Swee Kang', ' River Valley High School'], [], ['53.Tia Shi Wei', ' NUS High School Of Mathematics And Science'], [], ['54.Tung Ivan Kipling', ' Hwa Chong Institution'], [], ['55.Vayun Mathur', ' Singapore American School'], [], ['56.Vir Chaudhury', ' United World College South East Asia Dover Campus'], [], ['57.Wang Yihe', ' Hwa Chong Institution'], [], ['58.Yang Lihan', ' Nanyang Junior College'], [], ['59.Yanjia Zhang', ' United World College South East Asia Dover Campus'], [], ['60.Yap Yuan Xi', ' NUS High School Of Mathematics And Science'], [], ['61.Yeo Bing Lin', ' Hwa Chong Institution'], [], ['Bronze'], ['1.Aron Septianto', ' Anglo-Chinese School Independent'], [], ['2.Cadence Wern Sea Loh', \" Raffles Girls' School Secondary\"], [], ['3.David Walton', ' United World College South East Asia Dover Campus'], [], ['4.Devansh Shah', ' Global Indian International School'], [], ['5.Divyesh Balakrishnan', ' Clementi Town Secondary School'], [], ['6.Hein Htet Zaw', ' Commonwealth Secondary School'], [], ['7.Jiang Tianyuan', ' Dunman High School'], [], ['8.Jiao Pengtao', ' Victoria School'], [], ['9.Jonathan Tan Jiayi', ' School Of Science And Technology', ' Singapore'], [], ['10.Lim Yan Khai Bennett', ' Anglo-Chinese School Independent'], [], ['11.Luo Jiaqi', \" St. Joseph's Institution\"], [], ['12.Ma Xundong', ' Hwa Chong International School'], [], ['13.Ng Yu Ray', ' Commonwealth Secondary School'], [], ['14.Ryan Lee Yew Keene', ' Temasek Junior College'], [], ['15.Thai Le Minh Hoai', ' Anderson Serangoon Junior College'], [], ['16.Vincent Lim Jing En', ' Temasek Junior College'], [], ['17.Vishal Mohanty', ' NUS High School Of Mathematics And Science']]\n",
      " NUS High School Of Mathematics And Science, Raffles Institution, Hwa Chong Institution, United World College South East Asia Dover Campus, Anglo-Chinese School Independent\n"
     ]
    }
   ],
   "source": [
    "# JOAN's ANSWER \n",
    "\n",
    "\n",
    "import csv\n",
    "\n",
    "# def check_wonky(row):\n",
    "#     if len(row) == 3:\n",
    "#         if len(row[1].split()) == 1: # english name on 2nd item\n",
    "#             row[0] = row[0] + ',' + row[1]\n",
    "#             del row[1]\n",
    "#         elif len(row[2].split()) == 1: # sst singapore name on 3rd item \n",
    "#             row[1] = row[1] + ',' + row[2]\n",
    "#             del row[2]\n",
    "            \n",
    "\n",
    "# def count_win(row, current_medal):\n",
    "#     if current_medal == 'Gold':\n",
    "#         medal_counter[row[1]][0] += 1\n",
    "#     elif current_medal == 'Silver':\n",
    "#         medal_counter[row[1]][1] += 1\n",
    "#     elif current_medal == 'Bronze':\n",
    "#         medal_counter[row[1]][2] += 1\n",
    "        \n",
    "\n",
    "with open('./resources/NOI_24_RESULT.csv', 'r') as f:\n",
    "    x = list(row for row in csv.reader(f))\n",
    "    print(x)\n",
    "    schools = []\n",
    "    for row in x: #to build list of schools\n",
    "        check_wonky(row)\n",
    "        if len(row) == 2 and row[1] not in schools:\n",
    "            schools.append(row[1])\n",
    "    medal_counter = {school:[0,0,0] for school in schools}\n",
    "    current_medal = None\n",
    "    for row in x: # to check medals \n",
    "        if len(row) == 1:\n",
    "            if row[0] in ['Gold', 'Silver', 'Bronze']:\n",
    "                current_medal = row[0]\n",
    "        elif len(row) == 2:\n",
    "            count_win(row, current_medal)\n",
    "    medal_count = {school: (medal_counter[school][0], medal_counter[school][1], medal_counter[school][2]) for school in schools}\n",
    "    medal_sum = [[school,sum(medal_counter[school])] for school in schools]\n",
    "    medal_sum.sort(key=lambda x: x[1], reverse=True)\n",
    "top_5 = [school[0] for school in medal_sum[:5]]\n",
    "\n",
    "print(','.join(top_5))"
   ]
  },
  {
   "cell_type": "code",
   "execution_count": 8,
   "metadata": {},
   "outputs": [
    {
     "name": "stdout",
     "output_type": "stream",
     "text": [
      "[' Victoria School', ' Dunman High School', ' Raffles Institution', ' Catholic High School', ' Hwa Chong Institution', ' Nanyang Junior College', ' Temasek Junior College', ' National Junior College', ' DPS International School', ' River Valley High School', \" St. Joseph's Institution\", ' Manjusri Secondary School', ' Singapore American School', ' Anderson Secondary School', ' Ngee Ann Secondary School', ' Yishun Innova Junior College', ' Anglo-Chinese Junior College', ' Commonwealth Secondary School', ' Swiss Cottage Secondary School', ' Clementi Town Secondary School', ' Hwa Chong International School', \" CHIJ St. Nicholas Girls' School\", \" Raffles Girls' School Secondary\", ' Bukit Panjang Govt. High School', ' Anglo-Chinese School Independent', ' Tampines Meridian Junior College', ' Anderson Serangoon Junior College', \" Methodist Girls' School Secondary\", ' Global Indian International School', ' NUS High School Of Mathematics And Science', ' School Of Science And Technology, Singapore', ' United World College South East Asia Dover Campus']\n"
     ]
    }
   ],
   "source": [
    "\n",
    "listed_schools = list(schools)\n",
    "print(sorted(listed_schools, key=len))"
   ]
  },
  {
   "attachments": {},
   "cell_type": "markdown",
   "metadata": {},
   "source": [
    "## Exercise 5.10\n",
    "\n",
    "A text file, `MARKET_PRICES.TXT`, contains the in-game prices for 6 items, Widowbloom, Rising Glory, Marrowroot, Vigil's Torch, Nighshade and Spectral Flask of Power from 1 December 2020 to 3 March 2021. Each line contains tab-delimited data that shows the date and the prices (in copper coins) of the 6 items.\n",
    "\n",
    "Each line is in the format:\n",
    "\n",
    ">``` text\n",
    ">YYYY-MM-DD\\tWIDOWBLOOM\\tRISING_GLORY\\t\\MARROWROOT\\tVIGILS_TORCH\\tNIGHTSHADE\\tSPECTRAL_FLASK_OF_POWER\\n\n",
    ">```\n",
    "\n",
    "- The date is of the form `YYYY-MM-DD`, for example, `2020-12-03` is 3rd December, 2020.\n",
    "- WIDOWBLOOM, RISING_GLORY, MARROWROOT, VIGILS_TORCH, NIGHTSHADE, SPECTRAL_FLASK_OF_POWER are all integers.\n",
    "- `\\t` represents the tab character\n",
    "- `\\n` represents the newline character\n",
    "\n",
    "The text file is stored in ascending order of date and time.\n",
    "\n",
    "### Task 1 \n",
    "\n",
    "Write a program to:\n",
    "\n",
    "- read the price data from the text file,\n",
    "- for each of the 6 items:\n",
    "    - find the highest price and print this value,\n",
    "    - find the lowest price and print this value.\n",
    "\n",
    "### Task 2\n",
    "\n",
    "Suppose you want to play the market by buying and selling the 6 items above, one way to decide on items to invest in is by using the mean and variance of the daily rate of returns of the items. The latter is used to quantify the risk of holding such item.\n",
    "\n",
    "For an item $j$, \n",
    "- the **daily rate of return** of day $i$ to $i+1$, denoted as $r_i$ is defined to be $$r_i=\\frac{p_{i+1}-p_{i}}{p_i},$$ where $p_{i+1}$ and $p_i$ are prices of the item on day $i+1$ and day $i$ respectively,\n",
    "- the mean of the daily rate of returns, denoted as $\\overline{r}$, is just $\\frac{\\sum r_i}{n}$, where $n$ is the number of daily rate of returns recorded,\n",
    "- the variance of the daily rate of returns is $$\\frac{\\sum{(r_i-\\overline{r})^2}}{n},$$ where $\\overline{r}$ is the mean of the daily rate of returns and again $n$ is the number of daily returns recorded.\n",
    "\n",
    "Write a program to:\n",
    "\n",
    "- for each of the 6 items:\n",
    "    - find the mean of the daily rate of return,\n",
    "    - find the variance of the daily rate of return."
   ]
  },
  {
   "cell_type": "code",
   "execution_count": 27,
   "metadata": {},
   "outputs": [
    {
     "data": {
      "text/plain": [
       "9"
      ]
     },
     "execution_count": 27,
     "metadata": {},
     "output_type": "execute_result"
    }
   ],
   "source": [
    "\n",
    "def generate_check_digit(n: str) -> int:\n",
    "\n",
    "    n_string = str(n)\n",
    "    summation = 0 \n",
    "    position_of_digit = 1 \n",
    "    \n",
    "    for digit in n_string:\n",
    "        if position_of_digit % 2 == 1:\n",
    "            summation += int(digit)*3\n",
    "        else:\n",
    "            summation += int(digit)\n",
    "        position_of_digit += 1 \n",
    "    sum_modulo = summation % 10 \n",
    "    check_digit = 10 - sum_modulo\n",
    "    \n",
    "    return check_digit\n",
    "    \n",
    "generate_check_digit(2814307)"
   ]
  },
  {
   "cell_type": "code",
   "execution_count": 7,
   "metadata": {},
   "outputs": [
    {
     "name": "stdout",
     "output_type": "stream",
     "text": [
      "[['when\\twidowbloom_price\\trisingglory_price\\tmarrowroot_price\\tvigilstorch_price\\tnightshade_price\\tflask_price'], ['2020-12-01\\t12561\\t2639\\t6257\\t5028\\t13838\\t157738'], ['2020-12-02\\t11819\\t3176\\t4710\\t7206\\t17198\\t139320'], ['2020-12-03\\t13867\\t2677\\t4213\\t7659\\t13327\\t164655'], ['2020-12-04\\t13139\\t2686\\t3987\\t9325\\t14539\\t165096'], ['2020-12-05\\t14028\\t2494\\t8677\\t10086\\t17227\\t206537'], ['2020-12-06\\t14031\\t3354\\t7886\\t6838\\t14987\\t186021'], ['2020-12-07\\t12321\\t3052\\t6914\\t8307\\t14103\\t175147'], ['2020-12-08\\t12185\\t3237\\t6874\\t8748\\t15585\\t170496'], ['2020-12-09\\t11431\\t4019\\t6639\\t4510\\t11821\\t168278'], ['2020-12-10\\t10353\\t3591\\t5413\\t5467\\t11149\\t155209'], ['2020-12-11\\t8714\\t2910\\t4173\\t6831\\t8269\\t135795'], ['2020-12-12\\t8123\\t2000\\t3891\\t6451\\t6719\\t121379'], ['2020-12-13\\t9711\\t2192\\t4872\\t5331\\t8822\\t122510'], ['2020-12-14\\t10147\\t2702\\t5063\\t5782\\t8168\\t128980'], ['2020-12-15\\t9654\\t3024\\t5332\\t5291\\t7928\\t127627'], ['2020-12-16\\t10302\\t5350\\t5685\\t4455\\t8821\\t139591'], ['2020-12-17\\t10642\\t5294\\t5149\\t4274\\t8188\\t138418'], ['2020-12-18\\t10188\\t4286\\t4320\\t4019\\t7274\\t129975'], ['2020-12-19\\t9049\\t3405\\t4120\\t4109\\t6662\\t114266'], ['2020-12-20\\t12931\\t3290\\t4347\\t4612\\t7800\\t122009'], ['2020-12-21\\t10379\\t3291\\t5107\\t4329\\t10310\\t134273'], ['2020-12-22\\t9965\\t4370\\t4898\\t3764\\t8048\\t124970'], ['2020-12-23\\t10054\\t4894\\t6586\\t3159\\t7536\\t128869'], ['2020-12-24\\t10003\\t4608\\t5790\\t3926\\t6873\\t130586'], ['2020-12-25\\t9463\\t4457\\t4555\\t3468\\t7156\\t129852'], ['2020-12-26\\t9042\\t4860\\t4000\\t3903\\t6920\\t121995'], ['2020-12-27\\t9877\\t3986\\t3963\\t3831\\t9857\\t116601'], ['2020-12-28\\t9808\\t3316\\t5316\\t3547\\t6343\\t116037'], ['2020-12-29\\t8806\\t3196\\t5150\\t3201\\t6818\\t111813'], ['2020-12-30\\t8224\\t4455\\t4856\\t2883\\t6741\\t109774'], ['2020-12-31\\t9226\\t4658\\t4357\\t2773\\t6450\\t109760'], ['2021-01-01\\t8526\\t5131\\t4458\\t3785\\t6413\\t114962'], ['2021-01-02\\t8446\\t4862\\t4771\\t3875\\t7356\\t117696'], ['2021-01-03\\t8945\\t4201\\t5171\\t3453\\t6658\\t114852'], ['2021-01-04\\t8211\\t4002\\t5616\\t4841\\t6447\\t118488'], ['2021-01-05\\t8006\\t3875\\t5316\\t4678\\t6347\\t115712'], ['2021-01-06\\t9134\\t4737\\t8009\\t4023\\t7031\\t113101'], ['2021-01-07\\t9100\\t4760\\t8401\\t3801\\t6137\\t129381'], ['2021-01-08\\t9507\\t4451\\t8125\\t3223\\t5796\\t130722'], ['2021-01-09\\t8638\\t3858\\t7290\\t2891\\t6424\\t122649'], ['2021-01-10\\t9835\\t3480\\t6939\\t2845\\t6166\\t119797'], ['2021-01-11\\t9929\\t5101\\t5277\\t2787\\t5746\\t126220'], ['2021-01-12\\t9639\\t4720\\t4971\\t2676\\t5468\\t122475'], ['2021-01-13\\t10163\\t7679\\t7092\\t2336\\t6731\\t118669'], ['2021-01-14\\t9340\\t6228\\t4784\\t2303\\t5254\\t115948'], ['2021-01-15\\t8664\\t3900\\t4136\\t3392\\t4810\\t109674'], ['2021-01-16\\t7607\\t3742\\t4396\\t3138\\t4320\\t105018'], ['2021-01-17\\t7278\\t4408\\t4408\\t3265\\t4958\\t100644'], ['2021-01-18\\t6424\\t3779\\t4030\\t3832\\t4845\\t98674'], ['2021-01-19\\t5344\\t4525\\t3552\\t4165\\t4459\\t94978'], ['2021-01-20\\t4656\\t4547\\t3391\\t3977\\t4205\\t92263'], ['2021-01-21\\t4457\\t3687\\t3050\\t3140\\t3955\\t83234'], ['2021-01-22\\t3721\\t3213\\t2720\\t2193\\t3456\\t71341'], ['2021-01-23\\t3214\\t2701\\t2780\\t1720\\t3772\\t68152'], ['2021-01-24\\t3896\\t3785\\t3241\\t2115\\t4017\\t66334'], ['2021-01-25\\t4815\\t4549\\t3655\\t3066\\t4288\\t82380'], ['2021-01-26\\t3900\\t3844\\t3367\\t3384\\t3891\\t77159'], ['2021-01-27\\t3795\\t3717\\t3278\\t2799\\t4215\\t73143'], ['2021-01-28\\t3651\\t3498\\t3050\\t2394\\t3811\\t69057'], ['2021-01-29\\t3602\\t3080\\t2765\\t2821\\t3593\\t66166'], ['2021-01-30\\t3593\\t2815\\t2581\\t3031\\t3583\\t64377'], ['2021-01-31\\t3383\\t2708\\t3354\\t2656\\t4261\\t68615'], ['2021-02-01\\t5224\\t3183\\t3086\\t2790\\t4624\\t67768'], ['2021-02-02\\t3793\\t2871\\t2937\\t2455\\t3534\\t64005'], ['2021-02-03\\t4955\\t2948\\t3582\\t2483\\t4496\\t67912'], ['2021-02-04\\t4380\\t3919\\t4519\\t2291\\t4311\\t69819'], ['2021-02-05\\t3932\\t4020\\t3935\\t2071\\t4074\\t73652'], ['2021-02-06\\t6809\\t2966\\t4318\\t1978\\t3849\\t81749'], ['2021-02-07\\t6699\\t2815\\t4521\\t1989\\t4189\\t83695'], ['2021-02-08\\t6039\\t2768\\t3896\\t2176\\t3766\\t76427'], ['2021-02-09\\t5091\\t3687\\t3689\\t3009\\t3930\\t76695'], ['2021-02-10\\t5333\\t3202\\t3929\\t2523\\t3552\\t79086'], ['2021-02-11\\t5274\\t3094\\t3455\\t2211\\t3346\\t76517'], ['2021-02-12\\t4658\\t2908\\t2719\\t2151\\t3214\\t70476'], ['2021-02-13\\t5240\\t2848\\t3236\\t2070\\t3652\\t66457'], ['2021-02-14\\t4982\\t2649\\t2963\\t2035\\t3941\\t69519'], ['2021-02-15\\t4886\\t3233\\t2856\\t2014\\t4167\\t69305'], ['2021-02-16\\t4631\\t3252\\t3103\\t1909\\t3919\\t68824'], ['2021-02-17\\t4584\\t3325\\t2843\\t1822\\t4361\\t66826'], ['2021-02-18\\t4738\\t3232\\t2657\\t2094\\t3709\\t65442'], ['2021-02-19\\t5338\\t3027\\t2901\\t2153\\t4068\\t70608'], ['2021-02-20\\t5054\\t2985\\t2556\\t2686\\t3998\\t74429'], ['2021-02-21\\t4956\\t2913\\t2547\\t2675\\t4197\\t71747'], ['2021-02-22\\t6588\\t3345\\t2834\\t2486\\t4085\\t70792'], ['2021-02-23\\t4974\\t3523\\t2890\\t2369\\t4422\\t70662'], ['2021-02-24\\t4905\\t2832\\t2718\\t2184\\t4214\\t69803'], ['2021-02-25\\t4797\\t2744\\t2716\\t2273\\t4180\\t69041'], ['2021-02-26\\t4647\\t2669\\t2846\\t2075\\t3896\\t68732'], ['2021-02-27\\t4325\\t2765\\t2566\\t2108\\t3638\\t65859'], ['2021-02-28\\t4111\\t2726\\t2437\\t2205\\t3671\\t63984'], ['2021-03-01\\t4026\\t2567\\t2402\\t2103\\t3968\\t63038'], ['2021-03-02\\t3918\\t3015\\t2550\\t2019\\t3819\\t62998'], ['2021-03-03\\t4598\\t2842\\t2707\\t1898\\t3563\\t62927']]\n"
     ]
    }
   ],
   "source": [
    "# Task 1:\n",
    "import csv\n",
    "with open('./resources/MARKET_PRICES.txt') as f: \n",
    "    price_data = list(csv.reader(f))\n",
    "    print(price_data)\n",
    "\n",
    "\n",
    "# widowbloom_price = []\n",
    "# for row in price_data\n",
    "\n",
    "\n",
    "# create list of lowest and highest prices append them into the files of 6 respective items \n",
    "# sort out and print index 0 and -1 "
   ]
  }
 ],
 "metadata": {
  "kernelspec": {
   "display_name": "Python 3",
   "language": "python",
   "name": "python3"
  },
  "language_info": {
   "codemirror_mode": {
    "name": "ipython",
    "version": 3
   },
   "file_extension": ".py",
   "mimetype": "text/x-python",
   "name": "python",
   "nbconvert_exporter": "python",
   "pygments_lexer": "ipython3",
   "version": "3.12.1"
  },
  "vscode": {
   "interpreter": {
    "hash": "a42ccb73e7d9bfdf27e036f1d2b8b681e55fc0743cc5586bc2474d4a60f4b886"
   }
  }
 },
 "nbformat": 4,
 "nbformat_minor": 2
}
