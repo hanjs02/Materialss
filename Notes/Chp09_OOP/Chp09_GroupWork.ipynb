{
 "cells": [
  {
   "cell_type": "code",
   "execution_count": null,
   "id": "cf5e3204",
   "metadata": {},
   "outputs": [
    {
     "name": "stdout",
     "output_type": "stream",
     "text": [
      "1298.5\n"
     ]
    }
   ],
   "source": [
    "class Iphone:         # conventionally, you capitalize the first letter of the object\n",
    "\n",
    "    version_dict = {\"11\": 599, \"12\":699, \"13\": 799, \"14\": 899, \"15\": 999}\n",
    "\n",
    "    model_dict = {\"base\": 1, \"pro\": 1.2, \"proplus\": 1.4, \"promax\": 1.5}\n",
    "\n",
    "    storage_dict = {\"64\": 0, \"128\": 50, \"256\": 100, \"512\":150, \"1000\": 200}\n",
    "\n",
    "\n",
    "    def __init__(self, version, storage, model=\"base\"):       # we set default model as base to avoid error if user were to forget to input the data \n",
    "\n",
    "        self.__version = version  # the __ makes the thing private /\n",
    "        self.__model = model\n",
    "        self.__storage = storage\n",
    "\n",
    "\n",
    "    def price_calculate(self):                                     # have self OR Iphone in front so that python can access the three dictionaries under the class\n",
    "        price = self.version_dict[self.__version]             #[version] you have to put 11 or 12 or 13...\n",
    "        model_index = Iphone.model_dict[self.__model]\n",
    "        storage_extra = self.storage_dict[self.__storage]\n",
    "        return price*model_index+storage_extra\n",
    "\n",
    "r = Iphone(\"13\", \"256\", \"promax\")\n",
    "print(r.price_calculate())\n",
    "\n",
    "\n",
    "\n",
    "\n",
    "\n",
    "\n",
    "    "
   ]
  }
 ],
 "metadata": {
  "kernelspec": {
   "display_name": "Python 3",
   "language": "python",
   "name": "python3"
  },
  "language_info": {
   "codemirror_mode": {
    "name": "ipython",
    "version": 3
   },
   "file_extension": ".py",
   "mimetype": "text/x-python",
   "name": "python",
   "nbconvert_exporter": "python",
   "pygments_lexer": "ipython3",
   "version": "3.12.1"
  }
 },
 "nbformat": 4,
 "nbformat_minor": 5
}
