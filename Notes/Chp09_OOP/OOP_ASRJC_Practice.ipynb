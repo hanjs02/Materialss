{
 "cells": [
  {
   "cell_type": "markdown",
   "id": "ec21ecd6",
   "metadata": {},
   "source": [
    "# 2024 ASRJC H2 Computing Promo Q2 OOP\n"
   ]
  },
  {
   "cell_type": "markdown",
   "id": "1b747099",
   "metadata": {},
   "source": [
    "A computer game is written using object-oriented programming. It is set on a battlefield, where\n",
    "characters can move around, constrained to the battlefield’s boundaries. Two classes are to be\n",
    "implemented: a basic `Soldier` class and a more specialised Spartan class.\n",
    "\n",
    "The class `Soldier` contains three properties:\n",
    "* `name`: a string that stores the name of the soldier\n",
    "* `x_pos`: an integer representing the x-coordinate of the soldier\n",
    "* `y_pos`: an integer representing the y-coordinate of the soldier\n",
    "\n",
    "It also has the following methods:\n",
    "* a constructor that initialises `name`, `x_pos` and `y_pos`\n",
    "* `get_x()` and `get_y()` that return the x- and y-coordinates respectively\n",
    "* `increment_x()` and `increment_y()`, where each take an integer as a parameter and add\n",
    "this to the current x- or y-coordinate. If the new value exceeds 5000, it is limited to 5000. If the\n",
    "new value is below 0, it is limited to 0.\n",
    "* a method `move()` that takes a string parameter: `“up”`, `“down”`, `“left”` or `“right”`.\n",
    "\n",
    "The table shows the change each direction will make to the coordinates for a soldier:\n",
    "\n",
    "| Direction | Change to Coordinates       |\n",
    "|-----------|-----------------------------|\n",
    "| up        | y_coord increases by 5      |\n",
    "| down      | y_coord decreases by 5      |\n",
    "| left      | x_coord decreases by 5      |\n",
    "| right     | x_coord increases by 5      |\n",
    "\n",
    "The method calls an appropriate method with an integer value. If the direction provided is\n",
    "invalid, it should instead print an output: `“Invalid direction”`.\n",
    "For each of the sub-tasks, add a comment statement at the beginning of the code using the hash\n",
    "symbol ‘#’, to indicate the sub-task the program code belongs to.\n"
   ]
  },
  {
   "cell_type": "markdown",
   "id": "e1e54ac9",
   "metadata": {},
   "source": [
    "### Task 2.1\n",
    "\n",
    "Write program code for `Soldier` class.\n",
    "\n",
    "<div style=\"text-align: right\">[6]</div>"
   ]
  },
  {
   "cell_type": "code",
   "execution_count": 2,
   "id": "e1a8fe30",
   "metadata": {},
   "outputs": [
    {
     "name": "stdout",
     "output_type": "stream",
     "text": [
      "5000\n",
      "Invalid direction\n"
     ]
    }
   ],
   "source": [
    "class Soldier:\n",
    "\n",
    "    def __init__(self, name, x_pos, y_pos):\n",
    "        self.__name = name \n",
    "        self.__x_pos = x_pos \n",
    "        self.__y_pos = y_pos\n",
    "\n",
    "    \n",
    "    def get_x(self):\n",
    "        return self.__x_pos \n",
    "\n",
    " \n",
    "    def get_y(self):\n",
    "        return self.__y_pos \n",
    "\n",
    "    def increment_x(self, amount): \n",
    "        self.__x_pos += amount \n",
    "        if self.__x_pos > 5000:\n",
    "            self.__x_pos = 5000\n",
    "            return \"Invalid direction\"\n",
    "\n",
    "        if self.__x_pos < 0: \n",
    "            self.__x_pos = 0 \n",
    "            return \"Invalid direction\"\n",
    "\n",
    "\n",
    "    def increment_y(self, amount): \n",
    "        self.__y_pos += amount  \n",
    "        if self.__y_pos > 5000:\n",
    "            self.__y_pos = 5000\n",
    "            return \"Invalid direction\"\n",
    "\n",
    "        if self.__y_pos < 0: \n",
    "            self.__y_pos = 0 \n",
    "            return \"Invalid direction\"\n",
    "\n",
    "    def move(self, direction):\n",
    "        if direction == 'up':\n",
    "            self.increment_y(5)\n",
    "\n",
    "        elif direction == 'down':\n",
    "            self.increment_y(-5)\n",
    "\n",
    "        elif direction == 'left':\n",
    "            self.increment_x(-5)\n",
    "\n",
    "        elif direction == 'right':          # if everything was if, the else will be ONLY  \n",
    "            self.increment_x(5)             # connected to the second last if which would result\n",
    "                                           # result in valid commands like up and down interpreted as invalid\n",
    "        else: \n",
    "            print(\"Invalid direction\")\n",
    "\n",
    "        \n",
    "s = Soldier('Rex', 10, 100000)\n",
    "s.move('up')\n",
    "print(s.get_y())\n",
    "s.move('jump')\n",
    "\n",
    "\n"
   ]
  },
  {
   "cell_type": "markdown",
   "id": "0c150be4",
   "metadata": {},
   "source": [
    "## Task 2.2\n",
    "\n",
    "The class `Spartan` inherits from the `Soldier` class. The constructor accepts an additional\n",
    "parameter skills, which is a list containing unique skills that the Spartan possesses.\n",
    "\n",
    "Consequently a new method needs to be defined to display the skills of the Spartan.\n",
    "\n",
    "Another difference is that the `move()` method for `Spartan` should trigger a change in\n",
    "x-coordinate by ±8 for right and left directions and a change in y-coordinate by ±9 for up and down\n",
    "directions.\n",
    "Write program code for the `Spartan` class, demonstrating the concepts of inheritance and\n",
    "polymorphism. \n",
    "\n",
    "<div style=\"text-align: right\">[5]</div>"
   ]
  },
  {
   "cell_type": "code",
   "execution_count": 3,
   "id": "e9d05af4",
   "metadata": {},
   "outputs": [
    {
     "name": "stdout",
     "output_type": "stream",
     "text": [
      "19\n",
      "Skills:  big stick, holy cap\n"
     ]
    }
   ],
   "source": [
    "class Spartan(Soldier): \n",
    "\n",
    "    def __init__(self, name, x_pos, y_pos, skills):\n",
    "        super().__init__(name, x_pos, y_pos)\n",
    "        self.__skills = skills \n",
    "\n",
    "    def display_skills(self):\n",
    "        print('Skills: ', ', '.join(self.__skills))\n",
    "\n",
    "    def move(self, direction):\n",
    "        if direction == 'up':\n",
    "            self.increment_y(9)\n",
    "\n",
    "        elif direction == 'down':\n",
    "            self.increment_y(-9)\n",
    "\n",
    "        elif direction == 'left':\n",
    "            self.increment_x(-8)\n",
    "\n",
    "        elif direction == 'right':      \n",
    "            self.increment_x(8)             \n",
    "        else: \n",
    "            print(\"Invalid direction\")\n",
    "\n",
    "s = Spartan('RexyRex', 10, 10, [\"big stick\", \"holy cap\"])\n",
    "s.move('up')\n",
    "print(s.get_y())\n",
    "s.display_skills()\n",
    "    \n",
    "\n",
    "    "
   ]
  },
  {
   "cell_type": "markdown",
   "id": "ccdea4fa",
   "metadata": {},
   "source": [
    "## Task 2.3\n",
    "\n",
    "Write program code to:\n",
    "* declare an instance of a Spartan named Jeremy with skills of swordsmanship, archery and\n",
    "spear throwing, and having a starting position at (x, y) = (888, 999)\n",
    "* display the list of skills of the Spartan\n",
    "* prompt the user to input the direction of the Spartan’s move\n",
    "* call the appropriate method to move the Spartan and output its position in the format:\n",
    "“<name>'s position is (<x_pos>, <y_pos>).”\n",
    "\n",
    "<div style=\"text-align: right\">[4]</div>"
   ]
  },
  {
   "cell_type": "code",
   "execution_count": null,
   "id": "5c81347e",
   "metadata": {},
   "outputs": [
    {
     "name": "stdout",
     "output_type": "stream",
     "text": [
      "Skills:  swordsmanship, archery, spear throwing\n",
      "Invalid direction\n",
      "Jeremy's position is (888, 999)\n"
     ]
    }
   ],
   "source": [
    "J = Spartan('Jeremy', 888, 999, ['swordsmanship', 'archery', 'spear throwing'])\n",
    "J.display_skills()\n",
    "d = input(\"Input the direction of the Spartan's move: \")\n",
    "J.move(d)\n",
    "print(f\"Jeremy's position is ({J.get_x()}, {J.get_y()})\")\n"
   ]
  }
 ],
 "metadata": {
  "kernelspec": {
   "display_name": "Python 3",
   "language": "python",
   "name": "python3"
  },
  "language_info": {
   "codemirror_mode": {
    "name": "ipython",
    "version": 3
   },
   "file_extension": ".py",
   "mimetype": "text/x-python",
   "name": "python",
   "nbconvert_exporter": "python",
   "pygments_lexer": "ipython3",
   "version": "3.12.1"
  }
 },
 "nbformat": 4,
 "nbformat_minor": 5
}
