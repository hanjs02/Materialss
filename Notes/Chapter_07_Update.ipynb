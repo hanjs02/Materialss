{
 "cells": [
  {
   "cell_type": "markdown",
   "metadata": {},
   "source": [
    "# Learning Objectives\n",
    "\n",
    "- [ ] *4.1.1 Explain the structure of the internet\n",
    "- [ ] 4.2.1 Describe the differences between web applications and native applications \n",
    "- [ ] 4.2.2 State and apply usability principles in the design of web applications\n",
    "- [ ] *4.2.3 Use HTML, CSS (for clients) and Python (for the server) to create a web application that is able to display the output (as formatted text/images/table). \n",
    "- [ ] 4.2.2 Test a web application on a local server.\n",
    "\n",
    "# References\n",
    "\n",
    "- https://developer.mozilla.org/en-US/docs/Learn/HTML/Introduction_to_HTML\n",
    "- https://developer.mozilla.org/en-US/docs/Learn/CSS/Introduction_to_CSS\n",
    "- Harvard's CS50 2020 https://www.youtube.com/watch?v=5g0x2xv3aHU&t=1758s\n",
    "- ^4 http://web.stanford.edu/class/msande91si/www-spr04/readings/week1/InternetWhitepaper.htm\n",
    "- https://www.w3schools.com/html/html_css.asp#:~:text=CSS%20can%20be%20added%20to,to%20an%20external%20CSS%20file\n",
    "- https://uxplanet.org/visual-hierarchy-and-the-fundamentals-of-interaction-320a9e633822\n",
    "- https://www.programiz.com/python-programming/decorator\n",
    "- https://realpython.com/primer-on-jinja-templating/"
   ]
  },
  {
   "cell_type": "markdown",
   "metadata": {},
   "source": [
    "# 7.0 Internet\n",
    "\n",
    "The internet is the global system of interconnected computer networks that uses a specific, standardized procedure TCP/IP to communicate between networks and devices.\n",
    "\n",
    "<center>\n",
    "<img src=\"./web_stuff/img/ruswp_diag2.gif\"><br>\n",
    "Protocol Stack\n",
    "</center>\n",
    "\n",
    "## 7.0.1 TCP/IP \n",
    "\n",
    "There are two procedures used for communication in the internet.\n",
    "\n",
    "1. Internet Protocol (IP) has the task of delivering units of data called **packets** from the source computer to the destination computer which are connected via the internet. To be able to do so, IP addresses, a numerical label, are assigned to each device connected to a computer network. An IP address serves two principal functions: \n",
    "    - it identifies the host, and \n",
    "    - it provides the location of the host in the network, and thus the capability of establishing a path to that host.  \n",
    "2. Transmission Control Protocol (TCP) provides a communication service at an intermediate level between an application program and the Internet Protocol. TCP is responsible for routing application protocols to the correct application on the destination computer. To accomplish this, port numbers are used. Ports can be thought of as seperate channels on each computer. For example, you can surf the web while reading e-mail in the middle of a Zoom call with Genshin Impact open in a window. This is because these these applications used different port numbers. When a packet arrives at a computer and makes its way up the protocol stack, the TCP layer decides which application receives the packet based on a port number. E.g., HTTP uses port 80, HTTPS uses 443, Genshin Impact is 42472.\n",
    "\n",
    "## 7.0.2 World Wide Web\n",
    "\n",
    "The World Wide Web (WWW), commonly known as the Web, is an information system where documents and other web resources are identified by Uniform Resource Locators (URLs, such as http://www.example.com/index.html), which may be interlinked by hyperlinks, and are accessible over the Internet. The resources of the Web are transferred via the Hypertext Transfer Protocol (HTTP), may be accessed by users by a software application called a **web browser**, and are published by a software application called a **web server**. The World Wide Web is not synonymous with the Internet.\n",
    "\n",
    "## 7.0.3 Hyper Text Transfer Protocol\n",
    "\n",
    "Hypertext Transfer Protocol (HTTP) is an application-layer protocol for transmitting hypermedia documents, such as HTML. It was designed mainly for communication between web browsers and web servers. HTTP follows a classical client-server model, with a client opening a connection to make a request, then waiting until it receives a response.\n",
    "\n",
    "Domain names are human-readable addresses of an internet-connected computer. Whilst any internet-connected computer can be reached through a public IP address, IP addresses doesn't give a clear information about who's running the server or what service the website offers to a human user. Furthermore, IP addresses are hard to remember and might change over time.\n",
    "\n",
    "- `HTTP GET` method requests a representation of the specified resource. Requests using `GET` should only be used to request data (these requests shouldn't include data).\n",
    "\n",
    "- `HTTP POST` method sends data to the server. `POST` is designed to allow a uniform method to cover the following functions:\n",
    "    \n",
    "    - Annotation of existing resources\n",
    "    - Posting a message to a bulletin board, newsgroup, mailing list, or similar group of articles;\n",
    "    - Adding a new user through a signup modal;\n",
    "    - Providing a block of data, such as the result of submitting a form, to a data-handling process;\n",
    "    - Extending a database through an append operation.\n",
    "\n",
    "The `index.html` is usually the default file returned when you open a website address."
   ]
  },
  {
   "cell_type": "markdown",
   "metadata": {},
   "source": [
    "# 7.1 Hyper Text Markup Language\n",
    "\n",
    "HTML (Hypertext Markup Language) is not a programming language. It is a **markup language** that tells web browsers how to structure the web pages you visit. HTML consists of a series of **elements**, which you use to enclose, wrap, or mark up different parts of content to make it appear or act in a certain way. The enclosing tags can make content into a hyperlink to connect to another page, italicize words, and so on.\n",
    "\n",
    "> Mark-up is a term from print editing - the editor would go through the text and add annotations (i.e. this in italic, that in bold) for the printers to use when producing the final version. This was called *marking up the text*.\n",
    "\n",
    "An **element** is a part of a webpage. An element may contain a data item or a chunk of text or an image, or perhaps nothing. A typical element includes an opening tag with some **attributes**, enclosed text content, and a closing tag.\n",
    "\n",
    "<center>\n",
    "<img src=\"./web_stuff/img/anatomy-of-an-html-element.png\"><br>\n",
    "</center>\n",
    "\n",
    "The anatomy of our element is:\n",
    "\n",
    "- The opening tag: This consists of the name of the element (in this example, `p` for paragraph), wrapped in opening `<` and closing angle `>` brackets. This opening tag marks where the element begins or starts to take effect. \n",
    "- The content: This is the content of the element. \n",
    "- The closing tag: This is the same as the opening tag, except that it includes a forward slash `/` before the element name. This marks where the element ends. Failing to include a closing tag is a common beginner error that can produce peculiar results. Note that some elements only consist of a single tag, which is typically used to insert/embed something in the document\n",
    "\n",
    "An **attribute** extends an element, changing its behavior or providing metadata. Attributes contain extra information about the element that won't appear in the content.\n",
    "\n",
    "An attribute always has the form `name=\"value\"` (the attribute's identifier `name` followed by its associated value `value`). The attributes without the equals sign or a value is a shorthand for providing the empty string in HTML.\n",
    "\n",
    "Elements and tags are not the same things. Tags begin or end an element in source code, whereas elements are part of the DOM (Document Object Model) that defines the logical structure of documents and the way a document is accessed and manipulated.\n",
    "\n",
    "## Example of an HTML document"
   ]
  },
  {
   "cell_type": "code",
   "execution_count": 2,
   "metadata": {
    "vscode": {
     "languageId": "html"
    }
   },
   "outputs": [
    {
     "ename": "SyntaxError",
     "evalue": "invalid syntax (2497509139.py, line 1)",
     "output_type": "error",
     "traceback": [
      "\u001b[0;36m  Cell \u001b[0;32mIn[2], line 1\u001b[0;36m\u001b[0m\n\u001b[0;31m    <!doctype html>\u001b[0m\n\u001b[0m    ^\u001b[0m\n\u001b[0;31mSyntaxError\u001b[0m\u001b[0;31m:\u001b[0m invalid syntax\n"
     ]
    }
   ],
   "source": [
    "<!doctype html>\n",
    "<html>\n",
    "    <head>\n",
    "        <meta charset=\"utf-8\">\n",
    "        <title>Example HTML document</title>\n",
    "    </head>\n",
    "    <body>\n",
    "        <p class=\"example\">Hello,\n",
    "            <a href=\"#\">World</a>!. </p>\n",
    "        <form action=\"http://127.0.0.1:12345/\">\n",
    "            <input id=\"button\" type=\"submit\">\n",
    "        </form>\n",
    "        <!--example of tag attribute=\"value\"-->\n",
    "        <!--if you add two or more attribute to a tag, separate each with a space-->\n",
    "        <hr align = left width = '50%'>\n",
    "    </body>\n",
    "</html>"
   ]
  },
  {
   "cell_type": "markdown",
   "metadata": {},
   "source": [
    "Copy the code above to a text file and name it `index.html`. Open the file with any web browser in your machine. \n",
    "\n",
    "If you open any webpage, you can check its html code by using the Developer Tools (`CTRL+SHIFT+I`) in Google Chrome. "
   ]
  },
  {
   "cell_type": "markdown",
   "metadata": {},
   "source": [
    "## 7.1.1 Basic Structure of HTML document\n",
    "\n",
    "Here we have:\n",
    "\n",
    "- `<!DOCTYPE html>`: The doctype is a historical artifact that needs to be included for everything else to work right. It used to serve as links to a set of rules that the HTML page had to follow to be considered good HTML in the early days of HTML.\n",
    "- `<html></html>`: The `<html>` element. This element wraps all the content on the page. It is sometimes known as the root element.\n",
    "- `<head></head>`: The `<head>` element. This element acts as a container for everything you want to include on the HTML page, that isn't the content the page will show to viewers. This includes keywords and a page description that would appear in search results, CSS to style content, character set declarations, and more. \n",
    "- `<meta charset=\"utf-8\">`: This element specifies the character set for your document to UTF-8, which includes most characters from the vast majority of human written languages. With this setting, the page can now handle any textual content it might contain. There is no reason not to set this, and it can help avoid some problems later.\n",
    "- `<title></title>`: The `<title>` element. This sets the title of the page, which is the title that appears in the browser tab the page is loaded in. \n",
    "- `<body></body>`: The `<body>` element. This contains all the content that displays on the page, including text, images, videos, games, playable audio tracks, or whatever else."
   ]
  },
  {
   "cell_type": "markdown",
   "metadata": {},
   "source": [
    "## 7.1.2 Common Elements of HTML document\n",
    "\n",
    "- `<p></p>` element represents a paragraph.\n",
    "- `<b></b>` `bold` element.\n",
    "- `<em></em>` emphasis element. (italicizes the text)\n",
    "- &lt;a&gt; &lt;/a&gt;. The **anchor** element. An anchor can make the text it encloses into a hyperlink. Anchors can take a number of attributes, but several are as follows:\n",
    "    - `href`: This attribute's value specifies the web address for the link. \n",
    "    - `title`: The `title` attribute specifies extra information about the link, such as a description of the page that is being linked to.\n",
    "    - `target`: The `target` attribute specifies the browsing context used to display the link. For example, `target=\"_blank\"` will display the link in a new tab.\n",
    "- `<img>` element embeds an image into the document.\n",
    "- `<h1></h1>,...,<h6></h6>` represents six level of section headings with `<h1>` being the highest and `<h6>` the lowest.\n",
    "- special characters \n",
    "\n",
    "    <center>\n",
    "\n",
    "    | Character | `&`     | `<`    | `>`    | `\"`      |\n",
    "    |-----------|-------|------|------|--------|\n",
    "    | Reference | `&amp;` | `&lt;` | `&gt;` | `&quot;` |\n",
    "    \n",
    "    </center>\n",
    "\n",
    "- `<!--` and `-->` are used to wrap around the comments in HTML code. Browsers ignore comments, effectively making comments invisible to the user. \n",
    "- `<ul></ul>` represents an **unordered list** of items, typically rendered as a bulleted list. Each item will be represented with an `<li></li>` element.\n",
    "- `<ol></ol>` represents an **ordered list** of items — typically rendered as a numbered list. Similar to the unordered list, each item will be represented with an `<li></li>` element.\n",
    "- `<table></table>` represents tabular data — that is, information presented in a two-dimensional table comprised of rows and columns of cells containing data. Inside the `table` element, there're subelements to be used as well. \n",
    "    - `<thead>` table header\n",
    "    - `<tbody>` table body\n",
    "    - `<tr>` table row\n",
    "    - `<td>` table cell. \n",
    "    \n",
    "    Example of usage of `<table></table>`\n",
    "    \n",
    "    >```HTML\n",
    "    ><table>\n",
    "    >  <tr>\n",
    "    >    <th>Month</th>\n",
    "    >    <th>Savings</th>\n",
    "    >  </tr>\n",
    "    >  <tr>\n",
    "    >    <td>January</td>\n",
    "    >    <td>$100</td>\n",
    "    >  </tr>\n",
    "    >  <tr>\n",
    "    >    <td>February</td>\n",
    "    >    <td>$80</td>\n",
    "    >  </tr>\n",
    "    ></table>\n",
    "    ```\n",
    "- `<input></input>`\n",
    "    - `text`\n",
    "    - `password`\n",
    "    - `image`\n",
    "    - `file`\n",
    "- `<button></button>`\n",
    "\n",
    "Link to more HTML elements:\n",
    "- https://developer.mozilla.org/en-US/docs/Web/HTML/Element\n",
    "\n",
    "If you want to separate two chunks of text, two of the easiest ways are:\n",
    "- **For no space between the texts:** Place a `<br>` (for line break) tag between two bits of text.\n",
    "- **For some breathing room between the texts:** Surround each chunk of text with the `<p>` and `</p>` (for paragraph) tags."
   ]
  },
  {
   "cell_type": "markdown",
   "metadata": {},
   "source": [
    "# 7.2 Cascading Style Sheets\n",
    "\n",
    "CSS (Cascading Style Sheets) is a declarative language that controls how webpages look in the browser. \n",
    "\n",
    "A CSS rule-set consists of a selector and a declaration block. \n",
    "e.g:\n",
    "\n",
    "```css\n",
    "/*element {property: value}*/\n",
    "h1 {color:blue; font-size:12px;}\n",
    "```\n",
    "\n",
    "- `h1` in the example above is called a **selector** and it points to the HTML element you want to style.\n",
    "- the text enclosed within the `{...}` is called a **declaration block** and it contains one or more declarations separated by semicolons `;`.\n",
    "- each declaration includes a CSS property name and a value, separated by a colon `:`,\n",
    "- A CSS declaration always ends with a semicolon, and declaration blocks are surrounded by curly braces.\n",
    "\n",
    "In general, the rule-set is of the form:\n",
    "\n",
    "```css\n",
    "SELECTOR {DECLARATION_1; DECLARATION_2;.....;DECLARATION_N}\n",
    "```\n",
    "\n",
    "## 7.2.1 CSS Properties for A-Level\n",
    "\n",
    "<center>\n",
    "\n",
    "| Common     | Box Model     | Box Model      | Typography      |\n",
    "|------------|---------------|----------------|-----------------|\n",
    "| display    | height        | margin-left    | font-family     |\n",
    "| background | width         | margin-right   | font-size       |\n",
    "| color      | border        | margin-top     | font-style      |\n",
    "|            | border-bottom | padding        | font-weight     |\n",
    "|            | border-left   | padding-bottom | text-align      |\n",
    "|            | border-right  | padding-left   | text-decoration |\n",
    "|            | border-top    | padding-right  |                 |\n",
    "|            | margin        | padding-top    |                 |\n",
    "|            | margin-bottom |                |                 |\n",
    "\n",
    "</center>\n",
    "\n",
    "For a complete reference of all the properties and values:  https://www.w3schools.com/cssref/default.asp\n",
    "\n",
    "Note: \n",
    "\n",
    "- A property (e.g., `border`) may have multiple values separated by whitespace\n",
    "- American language is used in CSS. (Eg `center` instead of `centre`, `color` instead of `colour`)\n",
    "- Units can be one of these:\n",
    "    - percentage e.g., `10%` of the parent container's width\n",
    "    - pixels, e.g., `100px`\n",
    "    - em e.g., `1em`, relative to the font size of parent's element.  \n",
    "\n",
    "CSS can be added to HTML documents in 3 ways:\n",
    "- Inline - by using the `style` attribute inside HTML elements\n",
    "- Internal - by using a `<style>` element in the `<head>` section\n",
    "- External - by using a `<link>` element in the `<head>` section to link to an external CSS file\n",
    "\n",
    "Inline styling holds the highest priority and will always be applied"
   ]
  },
  {
   "cell_type": "code",
   "execution_count": null,
   "metadata": {
    "vscode": {
     "languageId": "html"
    }
   },
   "outputs": [],
   "source": [
    "<!--Example of Inline CSS-->\n",
    "<h1 style=\"color:blue;\">A Blue Heading</h1>\n",
    "<p style=\"color:red;\">A red paragraph.</p>"
   ]
  },
  {
   "cell_type": "code",
   "execution_count": null,
   "metadata": {
    "vscode": {
     "languageId": "html"
    }
   },
   "outputs": [],
   "source": [
    "<!--Example of Internal CSS-->\n",
    "<head>\n",
    "    <meta charset=\"utf-8\">\n",
    "    <title>Example HTML document</title>\n",
    "    <style>\n",
    "        body {background-color: powderblue;}\n",
    "        h1   {color: blue;}\n",
    "        p    {color: red;}\n",
    "    </style>\n",
    "</head>"
   ]
  },
  {
   "cell_type": "code",
   "execution_count": null,
   "metadata": {
    "vscode": {
     "languageId": "html"
    }
   },
   "outputs": [],
   "source": [
    "<!--Example of External CSS-->\n",
    "<!--Provided there is file style.css in same directory-->\n",
    "<head>\n",
    "    <meta charset=\"utf-8\">\n",
    "    <title>Example HTML document</title>\n",
    "    <link rel=\"stylesheet\" href=\"style.css\"/>\n",
    "</head>\n",
    "\n",
    "<!--In the style sheet style.css-->\n",
    "<!--/*comments in CSS*/-->\n",
    "<!--you don't need the <style> tag or any other HTML tags in this file-->\n",
    "th, td {border: 1px solid black; padding: 5px; background-color:hotpink}\n",
    "table {border-collapse: collapse}"
   ]
  },
  {
   "cell_type": "markdown",
   "metadata": {},
   "source": [
    "Some commonly used CSS properties for your HTML elements include:\n",
    "- `color`\n",
    "- `font-family`\n",
    "- `font-size`\n",
    "- `border`\n",
    "- `padding`\n",
    "- `margin`\n",
    "- `background-color`\n",
    "- `width`\n",
    "- `text-align`\n",
    "\n",
    "CSS can be commented out by using `/* COMMENT  */`.\n",
    "\n",
    "[https://fontjoy.com/]\n",
    "[https://coolors.co/]"
   ]
  },
  {
   "cell_type": "markdown",
   "metadata": {},
   "source": [
    "## 7.2.2 The `div` Element \n",
    "\n",
    "The HTML Content Division element (`<div>`) is the generic container for flow content. It has no effect on the content or layout until styled in some way using CSS (e.g. styling is directly applied to it, or some kind of layout model like Flexbox is applied to its parent element).\n",
    "\n",
    "As a \"pure\" container, the `<div>` element does not inherently represent anything. Instead, it's used to group content so it can be easily styled using the `class` or `id` attributes, marking a section of a document as being written in a different language (using the `lang` attribute), and so on.\n",
    "\n",
    "Check out `https://developer.mozilla.org/en-US/docs/Web/HTML/Element/div` for more info."
   ]
  },
  {
   "cell_type": "markdown",
   "metadata": {},
   "source": [
    "## 7.2.3 `id` and `class` attributes of HTML elements\n",
    "\n",
    "Recall that selector is a pattern of elements and other terms that tell the browser which HTML elements should be selected to have the CSS property values inside the rule applied to them. The element or elements which are selected by the selector are referred to as the subject of the selector.\n",
    "\n",
    "There are 3 classes of selector:\n",
    "- type e.g., `h1 {}`\n",
    "- `class` has the following syntax `.` followed `CLASS_NAME` e.g.,`.box{}`. \n",
    "\n",
    "The `class` CSS selector is one that targets its styles at a particular web page class. A class is an attribute assigned to one or more tags that enables you to create a kind of grouping for those tags. In the HTML file itself, you can add a class to an element by: `<element class=\"CLASS_NAME\">`\n",
    "- `ID` selector has the syntax `#` followed `<ID_NAME>` e.g., `#unique{}`\n",
    "\n",
    "ID selectors have highest priority (after inline styling), followed by class selectors, with type selectors having lowest priority\n",
    "\n",
    "The following code uses both internal and inline styling:"
   ]
  },
  {
   "cell_type": "code",
   "execution_count": null,
   "metadata": {
    "vscode": {
     "languageId": "html"
    }
   },
   "outputs": [],
   "source": [
    "<!DOCTYPE html>\n",
    "<html>\n",
    "<head>\n",
    "  <meta charset=\"utf-8\">\n",
    "  <title>CSS id class</title>\n",
    "  <style>\n",
    "      /*This is a type selector*/\n",
    "      h1 {\n",
    "          color:blue;\n",
    "          background-color:yellow;\n",
    "          padding: 10%;\n",
    "          border-width: 10px;\n",
    "          margin: 20px;\n",
    "      }\n",
    "\n",
    "      /*This is a class selector*/\n",
    "      .red {\n",
    "          color:red;/*color refers to font color*/\n",
    "      }\n",
    "\n",
    "      /*This is a type and class selector*/\n",
    "      /*Selects all types with the specified class*/\n",
    "      h1.red {\n",
    "          color:purple;/*if you combine h1 with class red, font color will be purple*/\n",
    "      }\n",
    "\n",
    "      /*This is an ID selector */\n",
    "      /*IDs must be unique to the element (each ID must be unique in the HTML document)*/\n",
    "      /*multiple selections can be made using ','*/\n",
    "      #bluehighlight, #another {\n",
    "        background-color:aqua;\n",
    "      }\n",
    "\n",
    "      /*different selection types can be used together*/\n",
    "      h1.red, p {\n",
    "        font-size: larger;\n",
    "      }\n",
    "\n",
    "      .monospace {\n",
    "        font-family: monospace;\n",
    "      }\n",
    "  </style>\n",
    "</head>\n",
    "\n",
    "<body>\n",
    "  <div>\n",
    "    <h1>Blue header with yellow background</h1>\n",
    "\n",
    "    <!--This element is purple as style for h1.red is defined after .red-->\n",
    "    <h1 class=\"red\">Purple header with yellow background</h1>\n",
    "    <h2 class=\"red\" id=\"bluehighlight\">Red header h2 with light blue backround</h2>\n",
    "    <p class=\"red\">Red text</p>\n",
    "    <!--It is possible for an element to have more than one class-->\n",
    "    <p class=\"red monospace\">Monospace red text</p>\n",
    "    <p class=\"monospace\">Monospace text</p>\n",
    "  </div>\n",
    "\n",
    "  <!--Children also inherit classes from their parents-->\n",
    "  <div class=\"monospace\">\n",
    "      <!--This element has class of both red and monospace-->\n",
    "      <!--However it is blue as inline CSS has highest priority-->\n",
    "      <p class=\"red\" style=\"color: blue;\">Monospace blue text</p>\n",
    "      <p>Monospace text</p>\n",
    "      <p class=\"red\" id=\"another\">Monospace red text with light blue background</p>\n",
    "  </div>\n",
    "\n",
    "    <!--Take note the priority where styles are defined-->\n",
    "</body>\n",
    "</html>"
   ]
  },
  {
   "cell_type": "markdown",
   "metadata": {},
   "source": [
    "## 7.2.4 CSS Box Model\n",
    "\n",
    "The CSS box model is essentially a box that wraps around every HTML element. It consists of: \n",
    "- `margins`: the CSS margin properties are used to create space around elements, outside of any defined borders.\n",
    "- `borders`:  CSS border properties allow you to specify the style, width, and color of an element's border.\n",
    "- `padding`: CSS padding is used to create space around an element's content, inside of any defined borders.\n",
    "- the actual content.\n",
    "\n",
    "The image below illustrates the box model:\n",
    "\n",
    "<center>\n",
    "<img src=\"./web_stuff/img/box-model.png\"><br>\n",
    "</center>"
   ]
  },
  {
   "cell_type": "markdown",
   "metadata": {},
   "source": [
    "# 7.3 Usability Principles in Web Applications\n",
    "\n",
    "## 7.3.1 Visual Hierarchy\n",
    "**What it means:**\n",
    "Visual hierarchy organizes elements on a page so users instantly understand what’s most important. It guides the eye using:\n",
    "\n",
    "- Size (bigger = more important)\n",
    "\n",
    "- Color (contrast draws attention)\n",
    "\n",
    "- Position (top/center = priority)\n",
    "\n",
    "- Whitespace (separates groups).\n",
    "\n",
    "**Example:**\n",
    "\n",
    "- A news website uses a giant headline for the top story, smaller text for less important articles.\n",
    "\n",
    "- Call-to-action buttons (e.g., \"Buy Now\") stand out in bright colors.\n",
    "\n",
    "- [Predominatly Black](https://predominantlyblack.com)\n",
    "\n",
    "**Why it matters:**\n",
    "Without hierarchy, users feel overwhelmed and miss key information.\n",
    "\n",
    "You can view this [video for further elaboration](https://youtu.be/8OTbyWndY9M?si=ShVSLsCVHHDB99BY)\n",
    "\n",
    "## 7.3.2 Consistency (Mental Models)\n",
    "**What it means:**\n",
    "Design elements (buttons, menus, icons) should work predictably across a website/app. Users build \"mental models\" (expectations) based on past experiences.\n",
    "\n",
    "**Key types of consistency:**\n",
    "\n",
    "- Visual: Same buttons/colors/fonts everywhere.\n",
    "\n",
    "- Functional: The \"trash can\" icon always deletes.\n",
    "\n",
    "- Location: Navigation menu stays in the same place.\n",
    "\n",
    "**Example:**\n",
    "\n",
    "- If underlined blue text is clickable on one page, it shouldn’t be plain text on another.\n",
    "\n",
    "- Hamburger menus (☰) should always open a sidebar.\n",
    "\n",
    "- [Duolingo.com](www.duolingo.com)\n",
    "\n",
    "**Why it matters:**\n",
    "Inconsistency forces users to relearn how things work, causing frustration.\n",
    "\n",
    "You can view this [video for further elaboration](https://youtu.be/Ibndy9KLOSQ?si=bBPvhrT26DTITb8_)\n",
    "\n",
    "## 7.3.3 Affordance\n",
    "**What it means:**\n",
    "An element’s design should hint at how it’s used (e.g., buttons look clickable).\n",
    "\n",
    "**Examples:**\n",
    "\n",
    "- 3D buttons with shadows appear pressable.\n",
    "\n",
    "- Input fields have a subtle border to signal \"type here.\"\n",
    "\n",
    "- Flat design pitfalls: If a link lacks underline/color, users might not know it’s clickable.\n",
    "\n",
    "- [UX affordances examples](https://careerfoundry.com/en/blog/ux-design/affordances-ux-design/)\n",
    "\n",
    "**Why it matters:**\n",
    "Poor affordance leads to confusion (e.g., users tapping non-interactive text).\n",
    "\n",
    "You can view this [video for further elaboration](https://youtu.be/MNqTmuCOC6I?si=Dm743dU6pFSEcCau)\n",
    "\n",
    "## 7.3.4 Responsiveness\n",
    "**What it means:**\n",
    "A website/app should adapt seamlessly to different devices (phone, tablet, desktop) and load/respond quickly.\n",
    "\n",
    "**Key aspects:**\n",
    "\n",
    "- Layout flexibility: Content reflows to fit any screen size.\n",
    "\n",
    "- Touch-friendly: Buttons are large enough for fingers.\n",
    "\n",
    "- Performance: Pages load in ≤2 seconds (or users leave).\n",
    "\n",
    "**Example:**\n",
    "\n",
    "- On mobile, a horizontal menu becomes a collapsible hamburger (☰).\n",
    "\n",
    "- Images resize instead of overflowing off-screen.\n",
    "\n",
    "**Why it matters:**\n",
    "Over 50% of web traffic is mobile; slow or broken layouts drive users away."
   ]
  },
  {
   "cell_type": "markdown",
   "metadata": {},
   "source": [
    "# 7.4 Flexbox Layout Module\n",
    "\n",
    "The Flexible Box (Flexbox) Layout Module, makes it easier to design flexible responsive layout structure without using float or positioning. To activate this, add `display: flex` inside the declaration of the selected HTML element.\n",
    "\n",
    "```HTML\n",
    "element {\n",
    "    display: flex;\n",
    "    flex-direction: row | row-reverse | column | column-reverse\n",
    "}\n",
    "```\n",
    "\n",
    "Please check out the following links to see how you can use flexbox for your page.\n",
    "\n",
    "- https://www.w3schools.com/css/css3_flexbox.asp\n",
    "- https://css-tricks.com/snippets/css/a-guide-to-flexbox/\n",
    "\n",
    "CSS Grid is a newer page layout tool that turns your page into a grid that gives you exquisite control over the horizontal and vertical placement of elements within that grid.\n",
    "\n",
    "- **Flexbox** excels at working with page elements that you want to lay out in one direction: that is, either horizontally or vertically.\n",
    "\n",
    "- **Grid** excels at working with page elements that you want to lay out in two directions: that is, both horizontally and vertically.\n",
    "\n",
    "Flexbox divides its world into two categories:\n",
    "\n",
    "- **Flex container**: This is a block-level element that acts as a parent to the flexible element inside it.\n",
    "\n",
    "- **Flex items**: These are the child elements that reside within the flex container.\n",
    "\n",
    "Following is a simple example of setting the flex direction:"
   ]
  },
  {
   "cell_type": "markdown",
   "metadata": {},
   "source": [
    "HTML:"
   ]
  },
  {
   "cell_type": "code",
   "execution_count": null,
   "metadata": {
    "vscode": {
     "languageId": "html"
    }
   },
   "outputs": [],
   "source": [
    "<div class=\"container\">\n",
    "    <div class=\"item item1\">1</div>\n",
    "    <div class=\"item item2\">2</div>\n",
    "    <div class=\"item item3\">3</div>\n",
    "    <div class=\"item item4\">4</div>\n",
    "    <div class=\"item item5\">5</div>\n",
    "</div>"
   ]
  },
  {
   "cell_type": "markdown",
   "metadata": {},
   "source": [
    "CSS:"
   ]
  },
  {
   "cell_type": "code",
   "execution_count": null,
   "metadata": {
    "vscode": {
     "languageId": "html"
    }
   },
   "outputs": [],
   "source": [
    ".container{\n",
    "    border: 5px double black;\n",
    "}\n",
    "\n",
    ".item{\n",
    "    font-family: Verdana, sans-serif;\n",
    "    font-size: 5rem;\n",
    "    padding: 1 rem;\n",
    "    text-align: center;\n",
    "}\n",
    ".item1{\n",
    "    background-color: hsl(0, 0%, 94%);\n",
    "}\n",
    ".item2{\n",
    "    background-color: hsl(0, 0%, 88%);\n",
    "}\n",
    ".item3{\n",
    "    background-color: hsl(0, 0%, 82%);\n",
    "}\n",
    ".item4{\n",
    "    background-color: hsl(0, 0%, 76%);\n",
    "}\n",
    ".item5{\n",
    "    background-color: hsl(0, 0%, 70%);\n",
    "}"
   ]
  },
  {
   "cell_type": "markdown",
   "metadata": {},
   "source": [
    "Now configure the parent `div` - again, the one with the container class - as a flex container with a horizontal primary axis."
   ]
  },
  {
   "cell_type": "code",
   "execution_count": null,
   "metadata": {
    "vscode": {
     "languageId": "html"
    }
   },
   "outputs": [],
   "source": [
    ".container{\n",
    "    display: flex;\n",
    "    flex-direction: row;\n",
    "    justify-content: space-evenly;\n",
    "    border: 5px double black;\n",
    "}"
   ]
  },
  {
   "cell_type": "markdown",
   "metadata": {},
   "source": [
    "# 7.5 Web Forms\n",
    "\n",
    "A web form is used to get inputs from the user and submitted to be processed by the web application.\n",
    "\n",
    "Form elements in A level syllabus:\n",
    "\n",
    "<center>\n",
    "\n",
    "| Elements | Attributes | Values                                                           |\n",
    "|----------|------------|------------------------------------------------------------------|\n",
    "| `<form>` `</form>`     | `action`     | URL to submit(identify the server)                               |\n",
    "|          | `method` (optional)    | `GET` or `POST`                                                      |\n",
    "|          | `enctype` (optional)    | Upload a file using `multipart/form-data`                         |\n",
    "| `<input>` No Closing Tag    | `name`       | Similar to a variable name but different from `id`. `name` used to identify form data when it's submitted to the server. `id` is used by CSS for styling and by javascript on the client side.                 |\n",
    "|          | `type`       | text, submit, file ( radio, checkbox, date,... )                   |\n",
    "|          | `value`      | Values that will be submitted. Use for specifying default values |\n",
    "| `<textarea>` `</textarea>` | `name`       | Multi-line textbox                                               |\n",
    "| `<label>` `</label>`    | `for`        | `id` of the input elements that the label refers to. Linking `<label>` elements to `<input>` using the `for` attribute (which references the input's `id`) is particularly helpful for small controls like checkboxes and radio buttons. Instead of having to click precisely on a tiny checkbox, users can click anywhere on the label text.                 |\n",
    "\n",
    "</center>\n",
    "\n",
    "<center>\n",
    "<img src=\"./img/web-form.png\"><br>\n",
    "</center>\n",
    "\n",
    "- The `for` attribute of `<label>` must be equal to the `id` attribute of the related element to bind them together.\n",
    "- `<label>` element also increases the hit area of the form element."
   ]
  },
  {
   "cell_type": "code",
   "execution_count": null,
   "metadata": {
    "vscode": {
     "languageId": "html"
    }
   },
   "outputs": [],
   "source": [
    "<!DOCTYPE html>\n",
    "<html lang=\"en\">\n",
    "<head>\n",
    "    <meta charset=\"UTF-8\">\n",
    "    <meta http-equiv=\"X-UA-Compatible\" content=\"IE=edge\">\n",
    "    <meta name=\"viewport\" content=\"width=device-width, initial-scale=1.0\">\n",
    "    <title>Document</title>\n",
    "</head>\n",
    "<body>\n",
    "    \n",
    "    <div>\n",
    "    <h1> Text</h1>\n",
    "    <form>\n",
    "        <label for=\"fname\">First name:</label><br>\n",
    "        <input type=\"text\" id=\"fname\" name=\"fname\"><br>\n",
    "        <label for=\"lname\">Last name:</label><br>\n",
    "        <input type=\"text\" id=\"lname\" name=\"lname\">\n",
    "    </form>\n",
    "    </div>\n",
    "    \n",
    "    <div>\n",
    "    <h1>Radio</h1>\n",
    "    <form>\n",
    "        <input type=\"radio\" id=\"male\" name=\"gender\" value=\"male\">\n",
    "        <label for=\"male\">Male</label><br>\n",
    "        <input type=\"radio\" id=\"female\" name=\"gender\" value=\"female\">\n",
    "        <label for=\"female\">Female</label><br>\n",
    "        <input type=\"radio\" id=\"other\" name=\"gender\" value=\"other\">\n",
    "        <label for=\"other\">Other</label>\n",
    "    </form>\n",
    "    </div>\n",
    "    <div>\n",
    "    <h1>Checkbox</h1>\n",
    "        <form action='/lmao'>\n",
    "            <input type=\"checkbox\" id=\"vehicle1\" name=\"vehicle1\" value=\"Bike\">\n",
    "            <label for=\"vehicle1\"> I have a bike</label><br>\n",
    "            <input type=\"checkbox\" id=\"vehicle2\" name=\"vehicle2\" value=\"Car\">\n",
    "            <label for=\"vehicle2\"> I have a car</label><br>\n",
    "            <input type=\"checkbox\" id=\"vehicle3\" name=\"vehicle3\" value=\"Boat\">\n",
    "            <label for=\"vehicle3\"> I have a boat</label>\n",
    "        </form>\n",
    "    </div>\n",
    "    <div>\n",
    "        <h1>Submit</h1>\n",
    "        <form action=\"/action_page.php\">\n",
    "            <label for=\"fname\">First name:</label><br>\n",
    "            <input type=\"text\" id=\"fname\" name=\"fname\" value=\"John\"><br>\n",
    "            <label for=\"lname\">Last name:</label><br>\n",
    "            <input type=\"text\" id=\"lname\" name=\"lname\" value=\"Doe\"><br><br>\n",
    "            <input type=\"submit\" value=\"Submit\">\n",
    "        </form>\n",
    "    </div>\n",
    "    <div>\n",
    "        <h1>File</h1>\n",
    "        <form>\n",
    "            <input type=\"file\" id=\"myFile\" name=\"filename\">\n",
    "            <input type=\"submit\">\n",
    "        </form>\n",
    "    </div>\n",
    "    <div>\n",
    "        <h1>Button</h1>\n",
    "        <form action=\"/action_page.php\">\n",
    "            <input type=\"file\" id=\"myFile\" name=\"filename\">\n",
    "            <button type='submit'>Add File</button>\n",
    "        </form>\n",
    "    </div>\n",
    "</body>\n",
    "</html>"
   ]
  },
  {
   "cell_type": "markdown",
   "metadata": {},
   "source": [
    "[Learn HTML forms in 8 minutes](https://youtu.be/2O8pkybH6po?si=SQHXFZmcm7roPCi7)"
   ]
  },
  {
   "cell_type": "markdown",
   "metadata": {},
   "source": [
    "# 7.6 Web Server \n",
    "\n",
    "## 7.6.1 Software, Server and Applications\n",
    "\n",
    "Software is the set of instructions that make the computer hardware usable. \n",
    "\n",
    "A server is a computer on a network that provides a resource to the other machines on the network. In particular, a **web server** accepts requests via HTTP, to distribute web pages. A **web browser** is a software that enables the access to the material requested from the web server. \n",
    "\n",
    "An application (software) is a set of instructions designed to make the computer do something for the user. If an application runs on a web server, such an application is termed **web application**. As such, web applications are accessed by the user through a web browser with an active network connection. In contrast, an application that runs locallly on the operating system of the device is called **native application**.\n",
    "\n",
    "A **web framework** is a software framework that is designed to support the development of web applications and it provide a standard way to build and deploy web applications. In other words, it is a code library that makes a developer's life easier when building reliable, scalable, and maintainable web applications. \n",
    "\n",
    "## 7.6.2 Flask\n",
    "\n",
    "Flask is a web framework written in Python. If you don't have it yet on your computer, please install by running in the terminal:\n",
    "\n",
    "```python\n",
    "pip install flask\n",
    "```\n",
    "\n",
    "Note: Flask version for A-level is 2.2.5 when the current Flask version is 3.1.x.\n",
    "\n",
    "Basic code to run a Flask web server is given below:"
   ]
  },
  {
   "cell_type": "markdown",
   "metadata": {},
   "source": [
    "## Initialization\n",
    "\n",
    "All Flask applications must create an *application instance*. The web server passes all requests it receives from clients to this object for handling, using a protocol called Web Server Gateway Interface (WSGI). The application instance is an object of class `Flask`, ususally created as follows:\n",
    "\n",
    "```python\n",
    "from flask import Flask\n",
    "app = Flask(__name__)\n",
    "```\n",
    "\n",
    "The only required argument to the Flask class constructor is the name of the main module or package of the application. For most applciations, Python's __name__ variable is the correct value for this argument. Flask uses this argument to determine the location of the application, which in turn allows it to locate other files that are part of the application, such as images and templates."
   ]
  },
  {
   "cell_type": "markdown",
   "metadata": {},
   "source": [
    "## Routes and View Functions\n",
    "\n",
    "Clients such as web browsers send *requests* to the web server, which in turn sends them to the Flask application instance. The Flask application instance needs to know what code it needs to run for each URL requested, so it keeps a mapping of URLs to Python functions. The association between a URL and the function that handles it is called a *route*.\n",
    "\n",
    "The most convenient way to define a route in a Flask application is through the `app.route` decorator exposed by the application instance. The following example shows how a route is declared using this decorator:\n",
    "\n",
    "```python\n",
    "@app.route('/')\n",
    "def index():\n",
    "    return '<h1>Hello World!</h1>'\n",
    "```\n",
    "\n",
    "A common use of decorators is to register functions as handler functions to be invoked when certain events occur. The previous example registers function `index()` as the handler for the application's root URL. The `app.route` decorator is the preferred method to register view functions."
   ]
  },
  {
   "cell_type": "markdown",
   "metadata": {},
   "source": [
    "### handler function\n",
    "A *handler function* is a function that processes specific events or requests (e.g., HTTP requests in Flask). When a certain event (like a user visiting a URL) occurs, the handler function executes and returns a response. In the previous example, when a user visits `http://localhost:5000/`, `index()` is called.\n",
    "\n",
    "handler functions\n",
    "- handles *incoming requests* and *returns responses*.\n",
    "- can process form data, URL parameters, etc."
   ]
  },
  {
   "cell_type": "markdown",
   "metadata": {},
   "source": [
    "### view functions\n",
    "\n",
    "A *view function* is a type of handler function specifically used in web frameworks (like Flask) to generate the *HTML response* that is sent back to the client (browser). The term comes from the *Model-View-Controller (MVC)* pattern, where \"View\" refers to the presentation layer.\n",
    "\n",
    "In the previous example, `index()` returns raw HTML.\n",
    "\n",
    "view functions\n",
    "- returns HTTP responses (HTML, JSON, etc)\n",
    "- often interacts with templates (like `render_template` in Flask).\n",
    "\n",
    "If the application is deployed on a server associated with the *www.example.com* domain name, then navigating to the *http://www.example.com/* in your browser would trigger `index()` to run on the server. The return value of this view function is the *response* the client receives. If the client is a web browser, this response is the document that is displayed to the user in the browser window. A response returned by a view function can be a simple string with HTML content."
   ]
  },
  {
   "cell_type": "markdown",
   "metadata": {},
   "source": [
    "| Function  | Definition |\n",
    "| --- | --- |\n",
    "| Handler Function | Any function that responds to an event/request     |\n",
    "| View Function    | A handler that specifically renders a \"view\" (HTML response)    |\n",
    "\n",
    "- **All view functions are handler functions**, but not all handler functions are view functions.\n",
    "- **View functions** typically return HTML (for web pages).\n",
    "- **Handler functions** can return any response (HTML, JSON, files, etc.). "
   ]
  },
  {
   "cell_type": "markdown",
   "metadata": {},
   "source": [
    "## Development Server\n",
    "Flask applications include a development web server that can be started programmatically by invoking the `app.run()` command. Once the server starts up, it goes into a loop that accepts requests and services them. This loop continues until you stop the application by pressing Ctrl+C.\n",
    "\n",
    "With the server running, open your browser and type http://localhost:5000/ in the address bar."
   ]
  },
  {
   "cell_type": "code",
   "execution_count": 2,
   "metadata": {
    "vscode": {
     "languageId": "html"
    }
   },
   "outputs": [],
   "source": [
    "%run server.py"
   ]
  },
  {
   "cell_type": "code",
   "execution_count": 7,
   "metadata": {},
   "outputs": [
    {
     "name": "stdout",
     "output_type": "stream",
     "text": [
      " * Serving Flask app '__main__'\n",
      " * Debug mode: off\n"
     ]
    },
    {
     "name": "stderr",
     "output_type": "stream",
     "text": [
      "WARNING: This is a development server. Do not use it in a production deployment. Use a production WSGI server instead.\n",
      " * Running on http://127.0.0.1:5000\n",
      "Press CTRL+C to quit\n",
      "127.0.0.1 - - [30/Jun/2025 07:34:26] \"GET / HTTP/1.1\" 200 -\n"
     ]
    }
   ],
   "source": [
    "# save ths code as server.py in the same folder as this jupyter notebook \n",
    "from flask import Flask\n",
    "app = Flask(__name__)\n",
    "\n",
    "#2 decorator \n",
    "@app.route('/')      #view function \n",
    "def root():\n",
    "    return f'''\n",
    "            <html>\n",
    "    <h1> hello </h1>\n",
    "    </html>\n",
    "    '''\n",
    "\n",
    "\n",
    "app.run()        #3 run the web app \n"
   ]
  },
  {
   "cell_type": "code",
   "execution_count": null,
   "metadata": {},
   "outputs": [],
   "source": [
    "from flask import Flask #0 importing the flask module\n",
    "#from flask import render_template\n",
    "\n",
    "app = Flask(__name__) #1 creating the Flask object\n",
    "\n",
    "@app.route('/') #2. decorator. the argument passed into the route method '/' denotes that it will respond web requests for the URL `/`\n",
    "def hello():\n",
    "    \"\"\"Print 'Hello, world!' as the response body\"\"\"\n",
    "    return '<h1>Hello World!</h1>'\n",
    "    #return \"<h1 style='color: red;'>I'm a red H1 heading!</h1><p>This is a lovely little paragraph</p><code>Flask is <em>awesome</em></code>\"\n",
    "    \n",
    "if __name__ == \"__main__\":\n",
    "    app.run() #This would generate a running web server. \n",
    "    # This web server comes with flask itself.\n",
    "    # You have to leave this running while you are viewing your site\n",
    "    # 127.0.0.1 has an alias called localhost"
   ]
  },
  {
   "cell_type": "code",
   "execution_count": null,
   "metadata": {},
   "outputs": [],
   "source": [
    "from flask import Flask #0 importing the flask module\n",
    "#from flask import render_template\n",
    "\n",
    "app = Flask(__name__) #1 creating the Flask object\n",
    "\n",
    "@app.route('/') #2. decorator. the argument passed into the route method '/' denotes that it will respond web requests for the URL `/`\n",
    "def hello():\n",
    "    \"\"\"Print 'Hello, world!' as the response body.\"\"\"\n",
    "    return '<h1>Hello World!</h1>'\n",
    "    #return \"<h1 style='color: red;'>I'm a red H1 heading!</h1><p>This is a lovely little paragraph</p><code>Flask is <em>awesome</em></code>\"\n",
    "\n",
    "@app.route('/about') #2. decorator. the argument passed into the route method '/' denotes that it will respond web requests for the URL `/`\n",
    "def about():\n",
    "    \"\"\"Print 'Hello, world!' as the response body.\"\"\"\n",
    "    return '<h1>About Page</h1>'\n",
    "    \n",
    "if __name__ == \"__main__\":\n",
    "    app.run() #This would generate a running web server. \n",
    "    # This web server comes with flask itself.\n",
    "    # You have to leave this running while you are viewing your site\n",
    "    # 127.0.0.1 has an alias called localhost"
   ]
  },
  {
   "cell_type": "markdown",
   "metadata": {},
   "source": [
    "## Dynamic Routes\n",
    "The version of the application below adds a second route that is dynamic. When you visit the dynamic URL in your browser, you are presented with a personalized greeting that includes the name provided in the URL. When the server is running, the application will respond with the personalized greeting using the `name` dynamic argument."
   ]
  },
  {
   "cell_type": "code",
   "execution_count": null,
   "metadata": {},
   "outputs": [],
   "source": [
    "from flask import Flask #0 importing the flask module\n",
    "#from flask import render_template\n",
    "\n",
    "app = Flask(__name__) #1 creating the Flask object\n",
    "\n",
    "@app.route('/') #2. decorator. the argument passed into the route method '/' denotes that it will respond web requests for the URL `/`\n",
    "def hello():\n",
    "    \"\"\"Print 'Hello, world!' as the response body.\"\"\"\n",
    "    return '<h1>Hello World!</h1>'\n",
    "    #return \"<h1 style='color: red;'>I'm a red H1 heading!</h1><p>This is a lovely little paragraph</p><code>Flask is <em>awesome</em></code>\"\n",
    "\n",
    "@app.route('/user/<name>') #2. decorator. the argument passed into the route method '/' denotes that it will respond web requests for the URL `/`\n",
    "def user(name):\n",
    "    return f'<h1>Hello, {name}!</h1>'\n",
    "\n",
    "if __name__ == \"__main__\":\n",
    "    app.run()"
   ]
  },
  {
   "cell_type": "markdown",
   "metadata": {},
   "source": [
    "- by default, the URL `http://127.0.0.1:5000/` is used to access the website. `127.0.0.1` is a reserved ip address to refer to the current computer used to access itself. `5000` is the default port number used by Flask. You can change the port number by providing `port=your_port_number` into the `app.run()` method.\n",
    "- change the argument in `route` method to specify the location of the resources you want to get. "
   ]
  },
  {
   "cell_type": "markdown",
   "metadata": {},
   "source": [
    "## Templates\n",
    "A template is a file that contains the text of a response, with placeholder variables for the dynamic parts that will be known only in the context of a request. The process that replaces the variables with actual values and returns a final response string is called *rendering*. For the task of rendering templates, Flask uses a powerful template engine called *Jinja*.\n",
    "\n",
    "By default, Flask looks for templates in a *templates* subdirectory located inside the main application directory.\n",
    " \n",
    "- remember to import `render_template` so that you can use the html as a template. Note that these template html files has to be stored in the `templates` folder if we're using Flask.\n",
    "- you can pass Python variables as an argument in `render_template()` function to be used for further templating (see Jinja below).\n",
    "- When a certain type of error is encountered in flask, we can use **error handler**, which is a function, to return a response. Some common errors are:\n",
    "    - `404 NOT FOUND`\n",
    "    - `403 FORBIDDEN`\n",
    "    - `410 GONE`\n",
    "    - `500 INTERNAL SERVER ERROR`"
   ]
  },
  {
   "cell_type": "code",
   "execution_count": 12,
   "metadata": {},
   "outputs": [],
   "source": [
    "@app.errorhandler(404)\n",
    "def page_not_found(e):\n",
    "    # note that we set the 404 status explicitly\n",
    "    return render_template('404.html'), 404"
   ]
  },
  {
   "cell_type": "markdown",
   "metadata": {},
   "source": [
    "### 7.6.2.1 Request Form Elements\n",
    "\n",
    "A query string is a part of a uniform resource locator (URL) that assigns values to specified parameters. This string can then be used by the web server to return a specific resource to the client. For example:\n",
    "\n",
    "```text\n",
    "https://duckduckgo.com/?q=mathematics+degree&t=hd&va=u&ia=web\n",
    "```\n",
    "\n",
    "Multiple query parameters are separated by the ampersand (&) symbol.\n",
    "\n",
    "We pass the URL of the route we want to post the form data to in the `action` attribute of the `form` element. In our case `action=\"/\"`.\n",
    "You'll also need to pass the request method to the method attribute in the opening `<form>` tag. We've added `method=\"POST\"` because we're POSTing data to the server.\n",
    "\n",
    "To access form data in our route, we use `request.form` object, which has the type `werkzeug.datastructures.ImmutableMultiDict`. However, effectively, we can essentially treat it like a dictionary. This 'dictionary' contains all the form fields submitted with the request."
   ]
  },
  {
   "cell_type": "code",
   "execution_count": 14,
   "metadata": {},
   "outputs": [
    {
     "name": "stdout",
     "output_type": "stream",
     "text": [
      " * Serving Flask app '__main__'\n",
      " * Debug mode: off\n"
     ]
    },
    {
     "name": "stderr",
     "output_type": "stream",
     "text": [
      "WARNING: This is a development server. Do not use it in a production deployment. Use a production WSGI server instead.\n",
      " * Running on http://127.0.0.1:5000\n",
      "Press CTRL+C to quit\n",
      "[2025-06-30 15:32:33,008] ERROR in app: Exception on / [GET]\n",
      "Traceback (most recent call last):\n",
      "  File \"/home/codespace/.python/current/lib/python3.12/site-packages/flask/app.py\", line 1511, in wsgi_app\n",
      "    response = self.full_dispatch_request()\n",
      "               ^^^^^^^^^^^^^^^^^^^^^^^^^^^^\n",
      "  File \"/home/codespace/.python/current/lib/python3.12/site-packages/flask/app.py\", line 919, in full_dispatch_request\n",
      "    rv = self.handle_user_exception(e)\n",
      "         ^^^^^^^^^^^^^^^^^^^^^^^^^^^^^\n",
      "  File \"/home/codespace/.python/current/lib/python3.12/site-packages/flask/app.py\", line 917, in full_dispatch_request\n",
      "    rv = self.dispatch_request()\n",
      "         ^^^^^^^^^^^^^^^^^^^^^^^\n",
      "  File \"/home/codespace/.python/current/lib/python3.12/site-packages/flask/app.py\", line 902, in dispatch_request\n",
      "    return self.ensure_sync(self.view_functions[rule.endpoint])(**view_args)  # type: ignore[no-any-return]\n",
      "           ^^^^^^^^^^^^^^^^^^^^^^^^^^^^^^^^^^^^^^^^^^^^^^^^^^^^^^^^^^^^^^^^^\n",
      "  File \"/tmp/ipykernel_1450/3526479340.py\", line 7, in template_test\n",
      "    return render_template('template.html', my_string=\"Wheeeee!\", my_list=[0,1,2,3,4,5])\n",
      "           ^^^^^^^^^^^^^^^^^^^^^^^^^^^^^^^^^^^^^^^^^^^^^^^^^^^^^^^^^^^^^^^^^^^^^^^^^^^^^\n",
      "  File \"/home/codespace/.python/current/lib/python3.12/site-packages/flask/templating.py\", line 149, in render_template\n",
      "    template = app.jinja_env.get_or_select_template(template_name_or_list)\n",
      "               ^^^^^^^^^^^^^^^^^^^^^^^^^^^^^^^^^^^^^^^^^^^^^^^^^^^^^^^^^^^\n",
      "  File \"/home/codespace/.local/lib/python3.12/site-packages/jinja2/environment.py\", line 1084, in get_or_select_template\n",
      "    return self.get_template(template_name_or_list, parent, globals)\n",
      "           ^^^^^^^^^^^^^^^^^^^^^^^^^^^^^^^^^^^^^^^^^^^^^^^^^^^^^^^^^\n",
      "  File \"/home/codespace/.local/lib/python3.12/site-packages/jinja2/environment.py\", line 1013, in get_template\n",
      "    return self._load_template(name, globals)\n",
      "           ^^^^^^^^^^^^^^^^^^^^^^^^^^^^^^^^^^\n",
      "  File \"/home/codespace/.local/lib/python3.12/site-packages/jinja2/environment.py\", line 972, in _load_template\n",
      "    template = self.loader.load(self, name, self.make_globals(globals))\n",
      "               ^^^^^^^^^^^^^^^^^^^^^^^^^^^^^^^^^^^^^^^^^^^^^^^^^^^^^^^^\n",
      "  File \"/home/codespace/.local/lib/python3.12/site-packages/jinja2/loaders.py\", line 126, in load\n",
      "    source, filename, uptodate = self.get_source(environment, name)\n",
      "                                 ^^^^^^^^^^^^^^^^^^^^^^^^^^^^^^^^^^\n",
      "  File \"/home/codespace/.python/current/lib/python3.12/site-packages/flask/templating.py\", line 65, in get_source\n",
      "    return self._get_source_fast(environment, template)\n",
      "           ^^^^^^^^^^^^^^^^^^^^^^^^^^^^^^^^^^^^^^^^^^^^\n",
      "  File \"/home/codespace/.python/current/lib/python3.12/site-packages/flask/templating.py\", line 99, in _get_source_fast\n",
      "    raise TemplateNotFound(template)\n",
      "jinja2.exceptions.TemplateNotFound: template.html\n",
      "127.0.0.1 - - [30/Jun/2025 15:32:33] \"GET / HTTP/1.1\" 500 -\n"
     ]
    }
   ],
   "source": [
    "from flask import Flask, render_template, request\n",
    "app = Flask(__name__)\n",
    "\n",
    "\n",
    "@app.route(\"/\")\n",
    "def template_test():\n",
    "    return render_template('template.html', my_string=\"Wheeeee!\", my_list=[0,1,2,3,4,5])\n",
    "\n",
    "@app.route('/notice',methods=['GET','POST'])\n",
    "def notice_me():\n",
    "    print(request.form)\n",
    "    return render_template('notice.html',first=request.form['first_name'],last=request.form['last_name'])\n",
    "\n",
    "if __name__ == '__main__':\n",
    "    app.run()"
   ]
  },
  {
   "cell_type": "code",
   "execution_count": 3,
   "metadata": {
    "vscode": {
     "languageId": "html"
    }
   },
   "outputs": [
    {
     "ename": "SyntaxError",
     "evalue": "invalid syntax (2459454911.py, line 1)",
     "output_type": "error",
     "traceback": [
      "\u001b[0;36m  Cell \u001b[0;32mIn[3], line 1\u001b[0;36m\u001b[0m\n\u001b[0;31m    <!DOCTYPE html>\u001b[0m\n\u001b[0m    ^\u001b[0m\n\u001b[0;31mSyntaxError\u001b[0m\u001b[0;31m:\u001b[0m invalid syntax\n"
     ]
    }
   ],
   "source": [
    "<!DOCTYPE html>\n",
    "<html>\n",
    "\n",
    "    <head>\n",
    "        <title> Form to submit name \n",
    "        </title>\n",
    "    </head>\n",
    "\n",
    "    <body>\n",
    "        <form action = \"/display_form_data\", method = \"POST\">\n",
    "            <label> FIrst Name: </label>\n",
    "            <input type = \"text\" name = \"first name\">\n",
    "\n",
    "            <label> Last Name: </label> \n",
    "            <input type = \"text\" name = \"last_name\"> \n",
    "\n",
    "            <input type = \"submit\" value = \"Submit Name\"> \n",
    "        </form> \n",
    "    </body> \n",
    "</html> "
   ]
  },
  {
   "cell_type": "code",
   "execution_count": null,
   "metadata": {
    "vscode": {
     "languageId": "html"
    }
   },
   "outputs": [],
   "source": [
    "<!DOCTYPE html>\n",
    "<html>\n",
    "    <head>\n",
    "        <title>Display name</title>\n",
    "    </head>\n",
    "    <body>\n",
    "        <h1> {{ first }} {{ last }} </h1>\n",
    "    </body>\n",
    "</html>"
   ]
  },
  {
   "cell_type": "code",
   "execution_count": null,
   "metadata": {},
   "outputs": [
    {
     "ename": "SyntaxError",
     "evalue": "invalid syntax (1763176129.py, line 2)",
     "output_type": "error",
     "traceback": [
      "\u001b[0;36m  Cell \u001b[0;32mIn[12], line 2\u001b[0;36m\u001b[0m\n\u001b[0;31m    import \"templates\\submit_name_form.html\"\u001b[0m\n\u001b[0m           ^\u001b[0m\n\u001b[0;31mSyntaxError\u001b[0m\u001b[0;31m:\u001b[0m invalid syntax\n"
     ]
    }
   ],
   "source": [
    "from flask import Flask, render_template, request\n",
    "app = Flask(__name__)\n",
    "\n",
    "\n",
    "@app.route('/form')\n",
    "def display_form():\n",
    "    return render_template('submit_name_form.html')\n",
    "\n",
    "@app.route('/display_form_data', methods=['POST'])\n",
    "def notice_me():\n",
    "    print(request.form)\n",
    "    return render_template('notice.html', first=request.form['first_name'],\n",
    "    last = request.form['last_name'])\n",
    "\n",
    "app.run()"
   ]
  },
  {
   "cell_type": "markdown",
   "metadata": {},
   "source": [
    "# 7.7 Jinja Expressions\n",
    "\n",
    "Jinja is a web template engine, which is a way to let web designers and developers work with web templates to automatically generate custom web pages, for the Python programming language. Example of use case is to generate a web page to display a result from a search. \n",
    "\n",
    "Jinja supports:\n",
    "- basic arithmetic `(+,-,*,%,//,**)` and comparison operators `==,!=,<,<=,>=,>`.\n",
    "- inserting of variables via `{{ VARIABLE_NAME }}`,\n",
    "- control structures `for` and `if` using :\n",
    "    - `{{% for %}}.......{{% endfor %}}`,\n",
    "    - `{{% if %}}.......{{% endif %}}`.\n",
    "- template inheritance via:\n",
    "    - `{% extends NAME_OF_FILE.html%}` denotes that the html file (called **child html**) is to be inserted into another html file, called **parent html**.\n",
    "    - `{% block SOME_NAME%}....{% endblock %}`, `SOME_NAME` is usually `content`, `footer`."
   ]
  },
  {
   "cell_type": "code",
   "execution_count": null,
   "metadata": {
    "vscode": {
     "languageId": "html"
    }
   },
   "outputs": [],
   "source": [
    "<!--save this file as templates/user.html-->\\\n",
    "<h1>Hello, {{ name }}!</h1>"
   ]
  },
  {
   "cell_type": "markdown",
   "metadata": {},
   "source": [
    "### Variables\n",
    "\n",
    "The `{{ name }}` construct used in the template shown above references a variable, a special placeholder that tells the template engine that the value that goes in that place should be obtained from data provided at the time the template is rendered."
   ]
  },
  {
   "cell_type": "markdown",
   "metadata": {},
   "source": [
    "### Rendering Templates\n",
    "\n",
    "The view functions in the application need to be modified to render the above template."
   ]
  },
  {
   "cell_type": "code",
   "execution_count": null,
   "metadata": {},
   "outputs": [],
   "source": []
  },
  {
   "cell_type": "markdown",
   "metadata": {},
   "source": [
    "### Control Structures\n",
    "\n",
    "Jinja offers several control structures that can be used to alter the flow of the template.\n",
    "\n",
    "The following example shows how conditional statements can be entered in a template:\n",
    "\n",
    "```html\n",
    "{% if user %}\n",
    "    Hello, {{ user }}!\n",
    "{% else %}\n",
    "    Hello, Stranger!\n",
    "{% endif %}\n",
    "```"
   ]
  },
  {
   "cell_type": "code",
   "execution_count": 24,
   "metadata": {
    "vscode": {
     "languageId": "html"
    }
   },
   "outputs": [
    {
     "ename": "IndentationError",
     "evalue": "unindent does not match any outer indentation level (<string>, line 39)",
     "output_type": "error",
     "traceback": [
      "\u001b[0;36m  File \u001b[0;32m<string>:39\u001b[0;36m\u001b[0m\n\u001b[0;31m    <h2>This is part of my base template</h2>\u001b[0m\n\u001b[0m                                             ^\u001b[0m\n\u001b[0;31mIndentationError\u001b[0m\u001b[0;31m:\u001b[0m unindent does not match any outer indentation level\n"
     ]
    }
   ],
   "source": [
    "<!DOCTYPE html>\n",
    "<html>\n",
    "\n",
    "<head>\n",
    "    <title>Flask Template Example</title>\n",
    "    <meta name=\"viewport\" content=\"width=device-width, initial-scale=1.0\">\n",
    "    <style type=\"text/css\">\n",
    "        .container {\n",
    "            margin: auto;\n",
    "            width: 20%\n",
    "        }\n",
    "    </style>\n",
    "</head>\n",
    "\n",
    "<body>\n",
    "    <div class=\"container\">\n",
    "        <p>My string: {{my_string}}</p>\n",
    "        <p>Value from the list: {{my_list[3]}}</p>\n",
    "        <p>Loop through the list:</p>\n",
    "        <ul>\n",
    "            {% for n in my_list %}\n",
    "                <li>{{n}}</li>\n",
    "            {% endfor %}\n",
    "        </ul>\n",
    "        <div class='input_stuff'>\n",
    "            <form action='/notice' method='POST'>\n",
    "                <div>\n",
    "                    First Name <input type='text' name='first_name'>\n",
    "                </div>\n",
    "                <div>\n",
    "                    Last Name <input type='text' name='last_name'>\n",
    "                </div>\n",
    "                <div>\n",
    "                    <input type='submit' name='submit'>\n",
    "                </div>\n",
    "            </form>\n",
    "        </div>\n",
    "        <div class=\"container\">\n",
    "      <h2>This is part of my base template</h2>\n",
    "      <br>\n",
    "      {% block content %}{% endblock %}\n",
    "      <br>\n",
    "      <h2>This is part of my base template</h2>\n",
    "      <br>\n",
    "      <div class=\"footer\">\n",
    "        {% block footer %}\n",
    "          Watch! This will be added to my base and child templates using the super powerful super block!\n",
    "          <br>\n",
    "          <br>\n",
    "          <br>\n",
    "        {% endblock %}\n",
    "      </div>\n",
    "    </div>\n",
    "    </div>\n",
    "</body>\n",
    "\n",
    "</html>"
   ]
  },
  {
   "cell_type": "code",
   "execution_count": 25,
   "metadata": {
    "vscode": {
     "languageId": "html"
    }
   },
   "outputs": [
    {
     "ename": "SyntaxError",
     "evalue": "invalid syntax (3204176592.py, line 1)",
     "output_type": "error",
     "traceback": [
      "\u001b[0;36m  Cell \u001b[0;32mIn[25], line 1\u001b[0;36m\u001b[0m\n\u001b[0;31m    {% extends \"layout.html\" %}\u001b[0m\n\u001b[0m     ^\u001b[0m\n\u001b[0;31mSyntaxError\u001b[0m\u001b[0;31m:\u001b[0m invalid syntax\n"
     ]
    }
   ],
   "source": [
    "{% extends \"layout.html\" %}\n",
    "{% block content %}\n",
    "  <h3> This is the start of my child template</h3>\n",
    "  <br>\n",
    "  <p>Not My string: {{5+2}}</p>\n",
    "  <h3> This is the end of my child template</h3>\n",
    "{% endblock %}"
   ]
  },
  {
   "cell_type": "code",
   "execution_count": 10,
   "metadata": {},
   "outputs": [
    {
     "name": "stdout",
     "output_type": "stream",
     "text": [
      " * Serving Flask app '__main__'\n",
      " * Debug mode: on\n"
     ]
    },
    {
     "name": "stderr",
     "output_type": "stream",
     "text": [
      "WARNING: This is a development server. Do not use it in a production deployment. Use a production WSGI server instead.\n",
      " * Running on http://127.0.0.1:5000\n",
      "Press CTRL+C to quit\n",
      " * Restarting with stat\n",
      "Traceback (most recent call last):\n",
      "  File \"<frozen runpy>\", line 198, in _run_module_as_main\n",
      "  File \"<frozen runpy>\", line 88, in _run_code\n",
      "  File \"/home/codespace/.local/lib/python3.12/site-packages/ipykernel_launcher.py\", line 18, in <module>\n",
      "    app.launch_new_instance()\n",
      "  File \"/home/codespace/.local/lib/python3.12/site-packages/traitlets/config/application.py\", line 1074, in launch_instance\n",
      "    app.initialize(argv)\n",
      "  File \"/home/codespace/.local/lib/python3.12/site-packages/traitlets/config/application.py\", line 118, in inner\n",
      "    return method(app, *args, **kwargs)\n",
      "           ^^^^^^^^^^^^^^^^^^^^^^^^^^^^\n",
      "  File \"/home/codespace/.local/lib/python3.12/site-packages/ipykernel/kernelapp.py\", line 692, in initialize\n",
      "    self.init_sockets()\n",
      "  File \"/home/codespace/.local/lib/python3.12/site-packages/ipykernel/kernelapp.py\", line 331, in init_sockets\n",
      "    self.shell_port = self._bind_socket(self.shell_socket, self.shell_port)\n",
      "                      ^^^^^^^^^^^^^^^^^^^^^^^^^^^^^^^^^^^^^^^^^^^^^^^^^^^^^\n",
      "  File \"/home/codespace/.local/lib/python3.12/site-packages/ipykernel/kernelapp.py\", line 253, in _bind_socket\n",
      "    return self._try_bind_socket(s, port)\n",
      "           ^^^^^^^^^^^^^^^^^^^^^^^^^^^^^^\n",
      "  File \"/home/codespace/.local/lib/python3.12/site-packages/ipykernel/kernelapp.py\", line 229, in _try_bind_socket\n",
      "    s.bind(\"tcp://%s:%i\" % (self.ip, port))\n",
      "  File \"/home/codespace/.local/lib/python3.12/site-packages/zmq/sugar/socket.py\", line 311, in bind\n",
      "    super().bind(addr)\n",
      "  File \"_zmq.py\", line 917, in zmq.backend.cython._zmq.Socket.bind\n",
      "  File \"_zmq.py\", line 179, in zmq.backend.cython._zmq._check_rc\n",
      "zmq.error.ZMQError: Address already in use (addr='tcp://127.0.0.1:9002')\n"
     ]
    },
    {
     "ename": "SystemExit",
     "evalue": "1",
     "output_type": "error",
     "traceback": [
      "An exception has occurred, use %tb to see the full traceback.\n",
      "\u001b[0;31mSystemExit\u001b[0m\u001b[0;31m:\u001b[0m 1\n"
     ]
    }
   ],
   "source": [
    "# Work on me own\n",
    "\n",
    "from flask import Flask  # dont forget capital flask\n",
    "\n",
    "app = Flask(__name__)\n",
    "\n",
    "@app.route('/')      # it is a decorator telling to execute the function below whenthe user navigates to the root URL (/)\n",
    "def index():             #defining function for that route \n",
    "    return \"Hello, World\"\n",
    "\n",
    "if __name__ == \"__main__\":\n",
    "    app.run(debug=True)"
   ]
  }
 ],
 "metadata": {
  "kernelspec": {
   "display_name": "Python 3",
   "language": "python",
   "name": "python3"
  },
  "language_info": {
   "codemirror_mode": {
    "name": "ipython",
    "version": 3
   },
   "file_extension": ".py",
   "mimetype": "text/x-python",
   "name": "python",
   "nbconvert_exporter": "python",
   "pygments_lexer": "ipython3",
   "version": "3.12.1"
  },
  "metadata": {
   "interpreter": {
    "hash": "dcacb0086e9a4f4eabd41c33bf4faac5ea0a3337ed3f5eff0680afa930572c04"
   }
  },
  "orig_nbformat": 2
 },
 "nbformat": 4,
 "nbformat_minor": 2
}
