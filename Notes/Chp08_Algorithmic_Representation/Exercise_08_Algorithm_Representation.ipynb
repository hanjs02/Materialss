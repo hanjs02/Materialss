{
 "cells": [
  {
   "attachments": {},
   "cell_type": "markdown",
   "metadata": {},
   "source": [
    "# Exercise 8\n",
    "\n",
    "Related Notes:\n",
    "- Chapter_08_Algorithmic_Representation\n",
    "\n",
    "[![Open In Colab](https://colab.research.google.com/assets/colab-badge.svg)](https://colab.research.google.com/github/njc-cz2-2021/Materials/blob/main/Exercises/Exercise_08_Algorithm_Representation.ipynb) "
   ]
  },
  {
   "cell_type": "markdown",
   "metadata": {},
   "source": [
    "## Exercise 8.1\n",
    "\n",
    "The following algorithm inputs two integer numbers and outputs all the integers from the first number to the last number.\n",
    "```text\n",
    "INPUT FirstNumber\n",
    "INPUT LastNumber\n",
    "FOR Number ← FirstNumber TO SecondNumber\n",
    "   OUTPUT Number\n",
    "   ENDFOR Number\n",
    "```\n",
    "\n",
    "1. Rewrite this algorithm in pseudocode using \n",
    "    - a `WHILE-ENDWHILE` loop,\n",
    "    - a `REPEAT-UNTIL` loop,\n",
    "2. Implement your pseudocode in Python."
   ]
  },
  {
   "cell_type": "code",
   "execution_count": null,
   "metadata": {},
   "outputs": [],
   "source": [
    "// WHILE-ENDWHILE loop\n",
    "\n",
    "\n",
    "DECLARE FirstNumber: INT\n",
    "DECLARE LastNumber:  INT \n",
    "\n",
    "INPUT FirstNumber\n",
    "INPUT FirstNumber\n",
    "\n",
    "WHILE FirstNumber <= LastNumber\n",
    "    OUTPUT FirstNumber\n",
    "    FirstNumber <- FirstNumber + 1\n",
    "ENDWHILE\n",
    "\n",
    "\n",
    "// REPEAT-UNTIL loop\n",
    "\n",
    "\n",
    "DECLARE FirstNumber: INT\n",
    "DECLARE LastNumber:  INT \n",
    "\n",
    "INPUT FirstNumber\n",
    "INPUT FirstNumber\n",
    "\n",
    "REPEAT \n",
    "    OUTPUT FirstNUmber\n",
    "    FirstNumber <- FirstNumber + 1 \n",
    "UNTIL FirstNumber = LastNumber\n",
    "\n",
    "\n",
    "\n",
    "\n",
    "\n",
    "\n",
    "# you can introduce counter if you want to preserve and use the original value of FirstNumber "
   ]
  },
  {
   "cell_type": "code",
   "execution_count": 1,
   "metadata": {},
   "outputs": [
    {
     "name": "stdout",
     "output_type": "stream",
     "text": [
      "1\n",
      "2\n",
      "3\n"
     ]
    }
   ],
   "source": [
    "first_no = int(input(\"Enter the first number:\"))\n",
    "last_no = int(input(\"Enter the last number:\"))\n",
    "\n",
    "while first_no <= last_no:\n",
    "    print(first_no)\n",
    "    first_no += 1\n",
    "    "
   ]
  },
  {
   "cell_type": "markdown",
   "metadata": {},
   "source": [
    "## Exercise 8.2\n",
    "\n",
    "An algorithm is required to ask the user to input a number.\n",
    "If the number is zero, stop.\n",
    "If the number is positive, output the number.\n",
    "If the number is negative, square the number, and output the square and square root of the answer.\n",
    "\n",
    "1. Write the algorithm in pseudocode.\n",
    "2. Draw the flowchart of the algorithm.\n",
    "3. Implement the algorithm in Python."
   ]
  },
  {
   "cell_type": "code",
   "execution_count": null,
   "metadata": {},
   "outputs": [],
   "source": [
    "DECLARE n: INT\n",
    "INPUT n \n",
    "\n",
    "IF n = 0\n",
    "    THEN\n",
    "        OUTPUT \"Programme terminated\"\n",
    "ENDIF\n",
    "\n",
    "IF n > 0 \n",
    "    THEN \n",
    "        OUTPUT n \n",
    "ENDIF\n",
    "\n",
    "IF n < 0 \n",
    "    THEN\n",
    "        OUTPUT \"The square is \", n*n, \" and the square root is  \", n*(-1), \".\"\n",
    "ENDIF"
   ]
  },
  {
   "cell_type": "code",
   "execution_count": null,
   "metadata": {},
   "outputs": [],
   "source": [
    "n = int(input(\"Enter an integer: \"))\n",
    "\n",
    "if n == 0: \n",
    "    print(\"Programme terminated\")\n",
    "\n",
    "elif n > 0: \n",
    "    print(n)\n",
    "\n",
    "else: \n",
    "    print(f\"The square is {n*n} and the square root is {n*(-1)}.\")\n"
   ]
  },
  {
   "cell_type": "markdown",
   "metadata": {},
   "source": [
    "## Exercise 8.3\n",
    "\n",
    "Study the following algorithm.\n",
    "\n",
    "```text\n",
    "FUNCTION Mystery(m, n)\n",
    "   r <- m – INT(m / n) * n\n",
    "   IF r = 0\n",
    "   THEN\n",
    "       RETURN n\n",
    "   ELSE\n",
    "       RETURN Mystery(n, r)\n",
    "   ENDIF\n",
    "ENDFUNCTION\n",
    "```\n",
    "\n",
    "`INT(Number)` returns the integer part of the parameter, `Number`. For example, `INT(4.2)` returns `4` and `INT(5.8)` returns 5.\n",
    "The function `Mystery` is called with\n",
    "\n",
    "```text\n",
    "CALL Mystery(69,12)\n",
    "```\n",
    "\n",
    "1. Produce a diagram that traces each step of the algorithm and the function calls. \n",
    "2. Implement the algorithm in Python."
   ]
  },
  {
   "cell_type": "code",
   "execution_count": null,
   "metadata": {},
   "outputs": [
    {
     "data": {
      "text/plain": [
       "3"
      ]
     },
     "execution_count": 8,
     "metadata": {},
     "output_type": "execute_result"
    }
   ],
   "source": [
    "def Mystery(m, n):\n",
    "    r = m - (m//n) * n \n",
    "\n",
    "    if r == 0:\n",
    "        return n \n",
    "    \n",
    "    else: \n",
    "        return Mystery(n, r)\n",
    "\n",
    "Mystery(69, 12)\n",
    "\n",
    "\n",
    "# This is a recursive function  \n",
    "# The purpose of this is to check the highest common factor (HCF)"
   ]
  },
  {
   "attachments": {},
   "cell_type": "markdown",
   "metadata": {},
   "source": [
    "## Exercise 8.4 2019/A Level/P1/Q5 H2 Computing (Modified)\n",
    "\n",
    "The function `z` takes three integer parameters, `low`, `high`, `seek` and returns an integer value. It operates on the values in the elements of the array `A`.\n",
    "\n",
    "```text\n",
    "FUNCTION Z(low, high, seek, A) RETURNS INTEGER\n",
    "    IF low > high THEN\n",
    "        RETURN -1\n",
    "   ENDIF\n",
    "    mid <- low + INT((high-low)/2)\n",
    "    IF seek = A[mid] THEN\n",
    "        RETURN mid\n",
    "    ELSE    \n",
    "       IF seek < A[mid] THEN\n",
    "            RETURN Z(low, mid-1, seek, A)\n",
    "        ELSE\n",
    "            RETURN Z(mid+1, high, seek, A)\n",
    "        ENDIF\n",
    "    ENDIF\n",
    "ENDFUNCTION\n",
    "```\n",
    "\n",
    "- **(a)** State what lines `10` and `12` tell you about the function.\n",
    "- **(b)** State the purpose for the `RETURN` statements in lines `03` and `07` of function z.\n",
    "\n",
    "The values in each of the eight elements of the array `A` are:\n",
    "\n",
    "<center>\n",
    "\n",
    "| Element | 0  | 1 | 2  | 3  | 4  | 5   | 6   | 7   |\n",
    "|---------|----|---|----|----|----|-----|-----|-----|\n",
    "| Value   | -3 | 8 | 14 | 15 | 96 | 101 | 412 | 500 |\n",
    "\n",
    "</center>\n",
    "\n",
    "- **(c)** Copy and then complete the trace table for the instruction:\n",
    "\n",
    "```\n",
    " OUTPUT Z(0, 7, 103, A)\n",
    "```\n",
    "\n",
    "<center>\n",
    "\n",
    "| Function call | low | high | seek | mid | A[mid] | OUTPUT |\n",
    "|---------------|-----|------|------|-----|--------|--------|\n",
    "| 1             | 0   | 7    | 103  |     |        |        |\n",
    "|               |     |      |      |     |        |        |\n",
    "|               |     |      |      |     |        |        |\n",
    "|               |     |      |      |     |        |        |\n",
    "|               |     |      |      |     |        |        |\n",
    "|               |     |      |      |     |        |        |\n",
    "\n",
    "</center>\n",
    "\n",
    "- **(d)** Function `z` can return **two** different types of value. Explain what these represent."
   ]
  },
  {
   "cell_type": "markdown",
   "metadata": {},
   "source": [
    "The function is about finding number in an array efficiently. If you just use for loop, you have to go through every single element in the array, which may be time-consuming and costly if the array consists of a very large number of elements such as 1000000. This is known as the **linear** search. \n",
    "On the other hand, **binary** search, which what this question represents helps the user to find the number very easily. Every time, the number of elemtns can be divided by 2 and thus it shrinks by double. \n",
    "\n",
    "ANS(a) The function is a recursive function\n",
    "ANS(b) It is to stop the function. It is the base case of the recusrive function. "
   ]
  },
  {
   "cell_type": "code",
   "execution_count": null,
   "metadata": {},
   "outputs": [],
   "source": []
  },
  {
   "attachments": {},
   "cell_type": "markdown",
   "metadata": {},
   "source": [
    "## Exercise 8.5 2018/A Level/P1/Q2 H2 Computing\n",
    "\n",
    "The following algorithm calculates the average mark for a group of students.\n",
    "\n",
    "```text\n",
    "FOR Counter <- 1 TO NumberOfStudents\n",
    "    Total <- 0\n",
    "    INPUT Mark\n",
    "    Total <- Total + Mark\n",
    "ENDFOR\n",
    "AVERAGE <- Total / NumberOfStudents\n",
    "OUTPUT Average\n",
    "```\n",
    "\n",
    "- **(a)** There is an error in this algorithm causing an incorrect result. Describe the error and explain the chage required to correct this error. \n",
    "- **(b)** State the name of this type of error.\n",
    "- **(c)** The lowest mark in the exam is 0 and the highest is 100. Give an example from each of the appropriate test cases which could be used to test the algorithm.\n",
    "- **(d)** Name and describe a suitable technique that could be used to manually identify errors in the algorithm."
   ]
  },
  {
   "cell_type": "markdown",
   "metadata": {},
   "source": [
    "(a) The variable NumberOfStudents is not defined. OR The Total is inside the for loop. The variable Total has to be outside the loop so that its value could be used to calculate the variable AVERAGE. \n",
    "(b) It is a NameError. \n",
    "ANS (b) It is logic error. \n",
    "(c) We take 0  and 100. The NumberOfSTudents is 2. With that AVERAGE will be 50 which indicates the algorithm works as 50 is the average of 0 and 100. \n",
    "ANS (c) boundary/edge: 0 or 100 \n",
    "        normal/valid: 90\n",
    "        invalid/erronous: 101, -6\n",
    "(d) Data validation could be used OR Try-except could be used. It is the technique of checking whether input or data is causing a particular error and if there is it will let the user know which type of error there is existing in the algorithm. \n",
    "ANS (d) Use a trace table to trace the values counter, total and mark. "
   ]
  },
  {
   "attachments": {},
   "cell_type": "markdown",
   "metadata": {},
   "source": [
    "## Exercise 8.6 2018/NJC Prelim/P1/Q3 H2 Computing\n",
    "\n",
    "The following is a recursive function\n",
    "\n",
    "```text\n",
    "FUNCTION f(INTEGER a, INTEGER b)\n",
    "    IF b = 0 THEN\n",
    "        RETURN 1\n",
    "    ELSE IF b = 1 THEN\n",
    "        RETURN a\n",
    "    ENDIF\n",
    "    x <- f(a, b DIV 2)\n",
    "    IF (b MOD 2) = 0 THEN\n",
    "        RETURN x * x\n",
    "    ELSE\n",
    "        RETURN x * a * x\n",
    "    ENDIF\n",
    "ENDFUNCTION\n",
    "```\n",
    "\n",
    "- **(a)** Using the above function as an example, define recursion.\n",
    "- **(b)**\tPerform a dry-run of the above function using the call `f(3, 4)`. Show the resultant \ttrace tree.\n",
    "- **(c)**\tState the purpose of the specified function.\n",
    "- **(d)**\tIdentify one flaw in the above algorithm, and explain how this flaw may be addressed.\n",
    "- **(e)**\tDraw a flowchart depicting an iterative version of the specified function."
   ]
  },
  {
   "cell_type": "markdown",
   "metadata": {},
   "source": [
    "This function find the result of the integer a to the power of integer b "
   ]
  },
  {
   "cell_type": "markdown",
   "metadata": {},
   "source": [
    "(a) Recursion is the repetition of functions as modified function variable is returned \n",
    "ANS (a) A function that calls itself several times to solve problem. \n",
    "// need two if it is [2m]\n",
    "(b) \n",
    "ANS (c) The function returns the value of integer a to the power of b \n",
    "ANS(d) If b is a negative integer, the algorithm returns the incorrect result. \n",
    "Use another function g(a, b). If b is negative, it will return 1/f(a, -b), or else just f(a, b)"
   ]
  },
  {
   "cell_type": "code",
   "execution_count": null,
   "metadata": {},
   "outputs": [],
   "source": [
    "def f(a, b):\n",
    "    extraFactor = []\n",
    "    while b > 1:\n",
    "        if b % 2 == 0: \n",
    "            extraFactor.append(1)\n",
    "        else: \n",
    "            extraFactor.append(a)\n",
    "        b = b // 2\n",
    "\n",
    "    if b == 1:\n",
    "        result = a \n",
    "    else:\n",
    "        result = 1\n",
    "\n",
    "    while len(extraFactor) > 0: \n",
    "        result = result * result * extraFactor.pop()\n",
    "    \n",
    "    return result "
   ]
  }
 ],
 "metadata": {
  "kernelspec": {
   "display_name": "Python 3",
   "language": "python",
   "name": "python3"
  },
  "language_info": {
   "codemirror_mode": {
    "name": "ipython",
    "version": 3
   },
   "file_extension": ".py",
   "mimetype": "text/x-python",
   "name": "python",
   "nbconvert_exporter": "python",
   "pygments_lexer": "ipython3",
   "version": "3.12.1"
  },
  "vscode": {
   "interpreter": {
    "hash": "a42ccb73e7d9bfdf27e036f1d2b8b681e55fc0743cc5586bc2474d4a60f4b886"
   }
  }
 },
 "nbformat": 4,
 "nbformat_minor": 2
}
